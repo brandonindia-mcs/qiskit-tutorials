{
 "cells": [
  {
   "cell_type": "code",
   "execution_count": null,
   "metadata": {},
   "outputs": [
    {
     "name": "stdout",
     "output_type": "stream",
     "text": [
      "revision date: 2025-01-26 with Python 3.8.20 (default, Sep  7 2024, 18:35:08) \n",
      "[GCC 11.4.0]\n"
     ]
    }
   ],
   "source": [
    "# pylint: disable=unused-import\n",
    "import sys\n",
    "from datetime import date\n",
    "print(f\"revision date: {date.today()} with Python {sys.version}\")"
   ]
  },
  {
   "cell_type": "code",
   "execution_count": 1,
   "metadata": {},
   "outputs": [
    {
     "name": "stdout",
     "output_type": "stream",
     "text": [
      "Created ./owner_private_key.pem and ./owner_public_key.pem\n"
     ]
    }
   ],
   "source": [
    "from cryptography.hazmat.primitives import serialization\n",
    "from cryptography.hazmat.primitives.asymmetric import rsa, padding\n",
    "from cryptography.hazmat.primitives import hashes\n",
    "from cryptography.hazmat.backends import default_backend\n",
    "\n",
    "# THIS DEOS A BETTER JOB AT ENCAPSULATING SECRET DATA FOR MEMORY LEAKS\n",
    "\n",
    "def make_private_pem(keyname=\"private_key.pem\"):\n",
    "  # Generate RSA private and public keys\n",
    "  private_key = rsa.generate_private_key(\n",
    "      public_exponent=65537,\n",
    "      key_size=2048,\n",
    "  )\n",
    "\n",
    "  # Save the keys to files (optional)\n",
    "  with open(keyname, \"wb\") as f:\n",
    "      f.write(private_key.private_bytes(\n",
    "          encoding=serialization.Encoding.PEM,\n",
    "          format=serialization.PrivateFormat.PKCS8,\n",
    "          encryption_algorithm=serialization.NoEncryption(),\n",
    "      ))\n",
    "  return keyname\n",
    "\n",
    "def make_public_pem(private_key_path, public_key_path=\"public_key.pem\"):\n",
    "  with open(private_key_path, \"rb\") as key_file:\n",
    "    private_key = serialization.load_pem_private_key(\n",
    "        key_file.read(),\n",
    "        password=None,  # If the key is encrypted, provide the password here\n",
    "        backend=default_backend()\n",
    "    )\n",
    "    public_key = private_key.public_key()\n",
    "    with open(public_key_path, \"wb\") as f:\n",
    "        f.write(public_key.public_bytes(\n",
    "            encoding=serialization.Encoding.PEM,\n",
    "            format=serialization.PublicFormat.SubjectPublicKeyInfo,\n",
    "        ))\n",
    "  return public_key_path\n",
    "\n",
    "def encrypt_message(public_key_path=\"./public_key.pem\", ciphertext_file_path=\"ciphertext.bin\", message=b\"YourSecretPassword\"):\n",
    "    # Load the public key from a PEM file\n",
    "    with open(public_key_path, \"rb\") as f:\n",
    "        public_key = serialization.load_pem_public_key(f.read())\n",
    "\n",
    "    # Encrypt a message with the public key\n",
    "    ciphertext = public_key.encrypt(\n",
    "        message,\n",
    "        padding.OAEP(\n",
    "            mgf=padding.MGF1(algorithm=hashes.SHA256()),\n",
    "            algorithm=hashes.SHA256(),\n",
    "            label=None,\n",
    "        )\n",
    "    )\n",
    "    # Save the ciphertext to a file (optional)\n",
    "    with open(ciphertext_file_path, \"wb\") as f:\n",
    "        f.write(ciphertext)\n",
    "    print(\"Encrypted message:\", ciphertext)\n",
    "\n",
    "def decrypt_message(private_key_path, ciphertext_file_path):\n",
    "  with open(private_key_path, \"rb\") as key_file:\n",
    "    private_key = serialization.load_pem_private_key(\n",
    "        key_file.read(),\n",
    "        password=None,  # If the key is encrypted, provide the password here\n",
    "        backend=default_backend()\n",
    "    )\n",
    "\n",
    "    # Read the ciphertext from a file\n",
    "    with open(ciphertext_file_path, \"rb\") as f:\n",
    "        ciphertext = f.read()\n",
    "\n",
    "  plaintext = private_key.decrypt(\n",
    "      ciphertext,\n",
    "      padding.OAEP(\n",
    "          mgf=padding.MGF1(algorithm=hashes.SHA256()),\n",
    "          algorithm=hashes.SHA256(),\n",
    "          label=None\n",
    "      )\n",
    "  )\n",
    "\n",
    "  return plaintext\n",
    "\n",
    "private_key_path = \"./owner_private_key.pem\"\n",
    "public_key_path = \"./owner_public_key.pem\"\n",
    "private = make_private_pem(keyname=private_key_path)\n",
    "public = make_public_pem(private_key_path, public_key_path)\n",
    "print(f\"Created {private} and {public}\")\n",
    "\n",
    "\n"
   ]
  },
  {
   "cell_type": "code",
   "execution_count": 2,
   "metadata": {},
   "outputs": [
    {
     "name": "stdout",
     "output_type": "stream",
     "text": [
      "File copied from owner_public_key.pem to ../sender/owner_public_key.pem\n"
     ]
    }
   ],
   "source": [
    "import shutil\n",
    "# Source path\n",
    "source = 'owner_public_key.pem'\n",
    "\n",
    "# Destination path\n",
    "destination = '../sender/owner_public_key.pem'\n",
    "\n",
    "# Copy the file\n",
    "shutil.copy(source, destination)\n",
    "\n",
    "print(f\"File copied from {source} to {destination}\")"
   ]
  },
  {
   "cell_type": "code",
   "execution_count": 3,
   "metadata": {},
   "outputs": [
    {
     "name": "stdout",
     "output_type": "stream",
     "text": [
      "absolutely!\n"
     ]
    }
   ],
   "source": [
    "from cryptography.hazmat.primitives import serialization\n",
    "from cryptography.hazmat.primitives.asymmetric import rsa, padding\n",
    "from cryptography.hazmat.primitives import hashes\n",
    "from cryptography.hazmat.backends import default_backend\n",
    "\n",
    "ciphertext = \"encrypted_message_from_sender.bin\"\n",
    "decrypted_message = decrypt_message(private_key_path, ciphertext_file_path=ciphertext)\n",
    "print(decrypted_message.decode('utf-8'))  # Decode the bytes to a string\n"
   ]
  }
 ],
 "metadata": {
  "kernelspec": {
   "display_name": "Python 3",
   "language": "python",
   "name": "python3"
  },
  "language_info": {
   "codemirror_mode": {
    "name": "ipython",
    "version": 3
   },
   "file_extension": ".py",
   "mimetype": "text/x-python",
   "name": "python",
   "nbconvert_exporter": "python",
   "pygments_lexer": "ipython3",
   "version": "3.8.20"
  }
 },
 "nbformat": 4,
 "nbformat_minor": 2
}
