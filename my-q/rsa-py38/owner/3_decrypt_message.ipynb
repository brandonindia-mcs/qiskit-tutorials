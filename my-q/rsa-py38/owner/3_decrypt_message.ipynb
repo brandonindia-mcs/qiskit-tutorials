{
 "cells": [
  {
   "cell_type": "code",
   "execution_count": 3,
   "metadata": {},
   "outputs": [
    {
     "name": "stdout",
     "output_type": "stream",
     "text": [
      "absolutely!\n"
     ]
    }
   ],
   "source": [
    "from cryptography.hazmat.primitives import serialization\n",
    "from cryptography.hazmat.primitives.asymmetric import rsa, padding\n",
    "from cryptography.hazmat.primitives import hashes\n",
    "from cryptography.hazmat.backends import default_backend\n",
    "\n",
    "def decrypt_message(private_key_path, ciphertext_file_path):\n",
    "  with open(private_key_path, \"rb\") as key_file:\n",
    "    private_key = serialization.load_pem_private_key(\n",
    "        key_file.read(),\n",
    "        password=None,  # If the key is encrypted, provide the password here\n",
    "        backend=default_backend()\n",
    "    )\n",
    "\n",
    "    # Read the ciphertext from a file\n",
    "    with open(ciphertext_file_path, \"rb\") as f:\n",
    "        ciphertext = f.read()\n",
    "\n",
    "  plaintext = private_key.decrypt(\n",
    "      ciphertext,\n",
    "      padding.OAEP(\n",
    "          mgf=padding.MGF1(algorithm=hashes.SHA256()),\n",
    "          algorithm=hashes.SHA256(),\n",
    "          label=None\n",
    "      )\n",
    "  )\n",
    "\n",
    "  return plaintext\n",
    "\n",
    "private_key_path = \"./owner_private_key.pem\"\n",
    "ciphertext = \"encrypted_message_from_sender.bin\"\n",
    "decrypted_message = decrypt_message(private_key_path, ciphertext_file_path=ciphertext)\n",
    "print(decrypted_message.decode('utf-8'))  # Decode the bytes to a string\n"
   ]
  }
 ],
 "metadata": {
  "kernelspec": {
   "display_name": "Python 3",
   "language": "python",
   "name": "python3"
  },
  "language_info": {
   "codemirror_mode": {
    "name": "ipython",
    "version": 3
   },
   "file_extension": ".py",
   "mimetype": "text/x-python",
   "name": "python",
   "nbconvert_exporter": "python",
   "pygments_lexer": "ipython3",
   "version": "3.8.20"
  }
 },
 "nbformat": 4,
 "nbformat_minor": 2
}
