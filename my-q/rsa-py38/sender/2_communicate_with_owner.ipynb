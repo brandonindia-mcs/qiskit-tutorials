{
 "cells": [
  {
   "cell_type": "code",
   "execution_count": 1,
   "metadata": {},
   "outputs": [
    {
     "name": "stdout",
     "output_type": "stream",
     "text": [
      "revision date: 2025-02-05 with Python 3.8.20 (default, Sep  7 2024, 18:35:08) \n",
      "[GCC 11.4.0]\n"
     ]
    }
   ],
   "source": [
    "# pylint: disable=unused-import\n",
    "import sys\n",
    "from datetime import date\n",
    "print(f\"revision date: {date.today()} with Python {sys.version}\")"
   ]
  },
  {
   "cell_type": "code",
   "execution_count": 2,
   "metadata": {},
   "outputs": [
    {
     "name": "stdout",
     "output_type": "stream",
     "text": [
      "Encrypted message: b'\\r\\x94\\xb5xK\\xfdr\\xe0\\xbd\\x05\\xe6\\xfcj\\x06Sem\\x9c\\xdb\\x1f\\xdej\\x0f\\xc9\\x90\\xf6\\xe0\\xdc1\\xf4\\x8c\\xb1u|\\x05\\xf0mb\\xfck) \\x7f\\x85\\x86\\xc0\\xa8\\x03\\xf2\\xd4\\xa6l\\xd8\\xcb\\x86\\x0e\\xfc\\x01\\xd0\\x0c\\x8fd\\x0e\\xba\\xbc\\x9b\\xea\\x8c\\xc8\\x131z\\x03\\\\Dao\\x99e\\xaa\\t\\xcbY \\x18\\x95\\xfc\\xbb\\xad\\xeenV\\xc4\\x1dN]\\xef;\\x7f\\x1b\\x02?\\x86\\xf1k\\x84\\xbc\\x04\\x05C\\xeb5\\xf9Y\\x82\\xfa\\xa7/i\\xb3:\\xa3\\x8e/\\xfc\\xdf1\\xbb\\xfb\\xbbR\\x8djh\\xfdth\\xb9\\xad\\xd2f\\xd9u\\xbc9\\xd0\\x8e\\x02\\x18\\x150M\\xb6=\\xf318\\xee\\xe5{\\xcb\\x040W\\xcdx\\x08\\x13\\x0fL\\x81\\xc0d\\x1fP2J\\x95o\\xb7\\x13\\x80\\xe8\\xc9\\x13l\\x8b\\xde\\xcb\\xf8\\x82\\x88Vj\\x90\\xc9\\xd3\\xeb\\xb2\\xa7\\x03~$\\xe0c6\\xde\\xa3@HX\\xda\\xa7\\xd6\\xb8\\x1a4Z\\x17!NW4\\xeeq\\n\\xad7\\xfa\\xb9yby5\\xf3a\\xa9\\x15\\xfbo\\\\\\xac\\xc6\\xb3 \\xfd\\xd9\\xf4\\xba\\xda\\x94*\\xc2\\xae\\x84\\xf7'\n"
     ]
    }
   ],
   "source": [
    "from cryptography.hazmat.primitives import serialization\n",
    "from cryptography.hazmat.primitives.asymmetric import rsa, padding\n",
    "from cryptography.hazmat.primitives import hashes\n",
    "from cryptography.hazmat.backends import default_backend\n",
    "\n",
    "def encrypt_message(public_key_path=\"./public_key.pem\", ciphertext_file_path=\"ciphertext.bin\", message=b\"YourSecretPassword\"):\n",
    "    # Load the public key from a PEM file\n",
    "    with open(public_key_path, \"rb\") as f:\n",
    "        public_key = serialization.load_pem_public_key(f.read())\n",
    "\n",
    "    # Encrypt a message with the public key\n",
    "    ciphertext = public_key.encrypt(\n",
    "        message,\n",
    "        padding.OAEP(\n",
    "            mgf=padding.MGF1(algorithm=hashes.SHA256()),\n",
    "            algorithm=hashes.SHA256(),\n",
    "            label=None,\n",
    "        )\n",
    "    )\n",
    "    # Save the ciphertext to a file (optional)\n",
    "    with open(ciphertext_file_path, \"wb\") as f:\n",
    "        f.write(ciphertext)\n",
    "    print(\"Encrypted message:\", ciphertext)\n",
    "\n",
    "public_key_path = \"./owner_public_key.pem\"\n",
    "ciphertext = \"encrypted_message_from_sender.bin\"\n",
    "\n",
    "byte_text = b\"absolutely!\"  # Replace with your actual ciphertext\n",
    "encrypt_message(public_key_path=public_key_path, ciphertext_file_path=ciphertext, message=byte_text)\n",
    "\n"
   ]
  },
  {
   "cell_type": "code",
   "execution_count": 3,
   "metadata": {},
   "outputs": [
    {
     "name": "stdout",
     "output_type": "stream",
     "text": [
      "File copied from ./encrypted_message_from_sender.bin to ../owner/encrypted_message_from_sender.bin\n"
     ]
    }
   ],
   "source": [
    "import shutil\n",
    "# Source path\n",
    "source = f\"./{ciphertext}\"\n",
    "\n",
    "# Destination path\n",
    "destination = f\"../owner/{ciphertext}\"\n",
    "\n",
    "# Copy the file\n",
    "shutil.copy(source, destination)\n",
    "\n",
    "print(f\"File copied from {source} to {destination}\")"
   ]
  }
 ],
 "metadata": {
  "kernelspec": {
   "display_name": "Python 3",
   "language": "python",
   "name": "python3"
  },
  "language_info": {
   "codemirror_mode": {
    "name": "ipython",
    "version": 3
   },
   "file_extension": ".py",
   "mimetype": "text/x-python",
   "name": "python",
   "nbconvert_exporter": "python",
   "pygments_lexer": "ipython3",
   "version": "3.8.20"
  }
 },
 "nbformat": 4,
 "nbformat_minor": 2
}
