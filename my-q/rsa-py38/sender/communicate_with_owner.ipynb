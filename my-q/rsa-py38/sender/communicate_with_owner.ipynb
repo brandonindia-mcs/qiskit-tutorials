{
 "cells": [
  {
   "cell_type": "code",
   "execution_count": 1,
   "metadata": {},
   "outputs": [
    {
     "name": "stdout",
     "output_type": "stream",
     "text": [
      "revision date: 2025-01-26 with Python 3.8.20 (default, Sep  7 2024, 18:35:08) \n",
      "[GCC 11.4.0]\n"
     ]
    }
   ],
   "source": [
    "# pylint: disable=unused-import\n",
    "import sys\n",
    "from datetime import date\n",
    "print(f\"revision date: {date.today()} with Python {sys.version}\")"
   ]
  },
  {
   "cell_type": "code",
   "execution_count": 1,
   "metadata": {},
   "outputs": [
    {
     "name": "stdout",
     "output_type": "stream",
     "text": [
      "Encrypted message: b'J\\xf0\\xde\\x93\\xc6\\xbb\"N\\x96\\xf4\\xe1\\x82\\x12\\xd0\\xb4\\xb1\\x14ZW\\xe9\\xe1\\x95y\\x1b(\\x8eS/\\xa0~d\\xe5U\\xb7\\x13\\xd7F.6\\x9fU\\x86A\\xbf\\xb7H^\\xa5\\xa7g\\x04?\\xf7z\\xdea\\x8f\\xa86[\\x1b\\xae\\xad\\x16\\x87q`fu\\xfb\\xd0\\xb7\\xcba\\x8a\\xb3\\x19\\x95J#\\x05\\x1f\\xce\\x04-O\\x9e\\x07K\\xf3\\xe5\\x98\\x81:>\\xfb\\xef\\x15\\x95#\\x15f\\xe1\\x15}\\x9eK\\xc5G6\\x8d\\x87\\x8e\"\\x1b\\x16\\x16\\xe8s\\xc8\\xf0\\x07\\xa5f\\xff]/\\x1a9\\x04\\xff\\xbcn\\x14\\xb1A\\x93\\xf2\\x8c\\xdbIT\\xb3a\\x91\\x95T\\xb0\\xea\\x1b\\x1e!\\xe7n\\xeb;rA\\xa0\\xb5\\xb2\\xf2\\xb7\\xa8BX\\xa7\\xa3h\\x86\\xa3\\x1eh}Sk\\xea^\\xa9\\xa5\\x86\\xeaR*\\x9a\\xc2R\\x13\\xba\\xd7\\xaf\\xcc\\xb7{\\xf8\\x8b3$\\xe15\\x02\\x0c\\xf8Dd\\xb8\\xa1\\xf7\\xd4C\\xe6L\\x04\\x03\\xab\\x01L6w\\xbf\\x8fck?c;\\xa5\\x9f\\xb2\\xaf\\xaa\\xe4\\xc2#O\\xe8\\x87$1+\\xfc\\xd6\\xcd\\xcf\\xb9Z\\x00;\\x89\\xde\\x9f%hs\\xa8J'\n"
     ]
    }
   ],
   "source": [
    "from cryptography.hazmat.primitives import serialization\n",
    "from cryptography.hazmat.primitives.asymmetric import rsa, padding\n",
    "from cryptography.hazmat.primitives import hashes\n",
    "from cryptography.hazmat.backends import default_backend\n",
    "\n",
    "def encrypt_message(public_key_path=\"./public_key.pem\", ciphertext_file_path=\"ciphertext.bin\", message=b\"YourSecretPassword\"):\n",
    "    # Load the public key from a PEM file\n",
    "    with open(public_key_path, \"rb\") as f:\n",
    "        public_key = serialization.load_pem_public_key(f.read())\n",
    "\n",
    "    # Encrypt a message with the public key\n",
    "    ciphertext = public_key.encrypt(\n",
    "        message,\n",
    "        padding.OAEP(\n",
    "            mgf=padding.MGF1(algorithm=hashes.SHA256()),\n",
    "            algorithm=hashes.SHA256(),\n",
    "            label=None,\n",
    "        )\n",
    "    )\n",
    "    # Save the ciphertext to a file (optional)\n",
    "    with open(ciphertext_file_path, \"wb\") as f:\n",
    "        f.write(ciphertext)\n",
    "    print(\"Encrypted message:\", ciphertext)\n",
    "\n",
    "public_key_path = \"./owner_public_key.pem\"\n",
    "ciphertext = \"encrypted_message_from_sender.bin\"\n",
    "\n",
    "byte_text = b\"absolutely!\"  # Replace with your actual ciphertext\n",
    "encrypt_message(public_key_path=public_key_path, ciphertext_file_path=ciphertext, message=byte_text)\n",
    "\n"
   ]
  },
  {
   "cell_type": "code",
   "execution_count": 2,
   "metadata": {},
   "outputs": [
    {
     "name": "stdout",
     "output_type": "stream",
     "text": [
      "File copied from ./encrypted_message_from_sender.bin to ../owner/encrypted_message_from_sender.bin\n"
     ]
    }
   ],
   "source": [
    "import shutil\n",
    "# Source path\n",
    "source = f\"./{ciphertext}\"\n",
    "\n",
    "# Destination path\n",
    "destination = f\"../owner/{ciphertext}\"\n",
    "\n",
    "# Copy the file\n",
    "shutil.copy(source, destination)\n",
    "\n",
    "print(f\"File copied from {source} to {destination}\")"
   ]
  }
 ],
 "metadata": {
  "kernelspec": {
   "display_name": "Python 3",
   "language": "python",
   "name": "python3"
  },
  "language_info": {
   "codemirror_mode": {
    "name": "ipython",
    "version": 3
   },
   "file_extension": ".py",
   "mimetype": "text/x-python",
   "name": "python",
   "nbconvert_exporter": "python",
   "pygments_lexer": "ipython3",
   "version": "3.8.20"
  }
 },
 "nbformat": 4,
 "nbformat_minor": 2
}
