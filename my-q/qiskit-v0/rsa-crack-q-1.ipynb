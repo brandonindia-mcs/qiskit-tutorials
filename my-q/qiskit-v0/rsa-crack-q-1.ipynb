{
 "cells": [
  {
   "cell_type": "code",
   "execution_count": 1,
   "metadata": {},
   "outputs": [
    {
     "name": "stdout",
     "output_type": "stream",
     "text": [
      "Original Message: HELLO\n",
      "Encrypted Message: [3000, 28, 2726, 2726, 1307]\n",
      "Decrypted Message: HELLO\n"
     ]
    }
   ],
   "source": [
    "from qiskit import QuantumCircuit, Aer, transpile, assemble, execute\n",
    "from qiskit.visualization import plot_histogram\n",
    "import numpy as np\n",
    "\n",
    "# Function to generate RSA keys\n",
    "def generate_rsa_keys(p, q):\n",
    "    n = p * q\n",
    "    phi = (p - 1) * (q - 1)\n",
    "    e = 65537  # Commonly used prime number for e\n",
    "    d = pow(e, -1, phi)\n",
    "    return (e, n), (d, n)\n",
    "\n",
    "# Function to encrypt a message\n",
    "def encrypt(message, public_key):\n",
    "    e, n = public_key\n",
    "    encrypted_message = [pow(ord(char), e, n) for char in message]\n",
    "    return encrypted_message\n",
    "\n",
    "# Function to decrypt a message\n",
    "def decrypt(encrypted_message, private_key):\n",
    "    d, n = private_key\n",
    "    decrypted_message = ''.join([chr(pow(char, d, n)) for char in encrypted_message])\n",
    "    return decrypted_message\n",
    "\n",
    "# Example usage\n",
    "p = 61\n",
    "q = 53\n",
    "public_key, private_key = generate_rsa_keys(p, q)\n",
    "message = \"HELLO\"\n",
    "encrypted_message = encrypt(message, public_key)\n",
    "decrypted_message = decrypt(encrypted_message, private_key)\n",
    "\n",
    "print(f\"Original Message: {message}\")\n",
    "print(f\"Encrypted Message: {encrypted_message}\")\n",
    "print(f\"Decrypted Message: {decrypted_message}\")"
   ]
  },
  {
   "cell_type": "markdown",
   "metadata": {},
   "source": [
    "### The Shor class & supporting libraries have been removed\n",
    "#### Attempts for a workaround have been unsuccessful"
   ]
  },
  {
   "cell_type": "code",
   "execution_count": 2,
   "metadata": {},
   "outputs": [
    {
     "name": "stdout",
     "output_type": "stream",
     "text": [
      "Original Message: HELLO\n",
      "Encrypted Message: [3000, 28, 2726, 2726, 1307]\n",
      "Decrypted Message: HELLO\n"
     ]
    },
    {
     "ename": "ModuleNotFoundError",
     "evalue": "No module named 'qiskit.aqua'",
     "output_type": "error",
     "traceback": [
      "\u001b[0;31m---------------------------------------------------------------------------\u001b[0m",
      "\u001b[0;31mModuleNotFoundError\u001b[0m                       Traceback (most recent call last)",
      "Cell \u001b[0;32mIn[2], line 43\u001b[0m\n\u001b[1;32m     41\u001b[0m \u001b[38;5;28;01mfrom\u001b[39;00m\u001b[38;5;250m \u001b[39m\u001b[38;5;21;01mqiskit\u001b[39;00m\u001b[38;5;21;01m.\u001b[39;00m\u001b[38;5;21;01mcircuit\u001b[39;00m\u001b[38;5;21;01m.\u001b[39;00m\u001b[38;5;21;01mlibrary\u001b[39;00m\u001b[38;5;250m \u001b[39m\u001b[38;5;28;01mimport\u001b[39;00m QFT\n\u001b[1;32m     42\u001b[0m \u001b[38;5;28;01mfrom\u001b[39;00m\u001b[38;5;250m \u001b[39m\u001b[38;5;21;01mqiskit\u001b[39;00m\u001b[38;5;21;01m.\u001b[39;00m\u001b[38;5;21;01mcircuit\u001b[39;00m\u001b[38;5;250m \u001b[39m\u001b[38;5;28;01mimport\u001b[39;00m QuantumCircuit\n\u001b[0;32m---> 43\u001b[0m \u001b[38;5;28;01mfrom\u001b[39;00m\u001b[38;5;250m \u001b[39m\u001b[38;5;21;01mqiskit\u001b[39;00m\u001b[38;5;21;01m.\u001b[39;00m\u001b[38;5;21;01maqua\u001b[39;00m\u001b[38;5;21;01m.\u001b[39;00m\u001b[38;5;21;01malgorithms\u001b[39;00m\u001b[38;5;250m \u001b[39m\u001b[38;5;28;01mimport\u001b[39;00m Shor\n\u001b[1;32m     45\u001b[0m \u001b[38;5;66;03m# Define the integer to be factored (RSA modulus)\u001b[39;00m\n\u001b[1;32m     46\u001b[0m N \u001b[38;5;241m=\u001b[39m \u001b[38;5;241m61\u001b[39m \u001b[38;5;241m*\u001b[39m \u001b[38;5;241m53\u001b[39m  \u001b[38;5;66;03m# Example modulus from the RSA keys\u001b[39;00m\n",
      "\u001b[0;31mModuleNotFoundError\u001b[0m: No module named 'qiskit.aqua'"
     ]
    }
   ],
   "source": [
    "from qiskit import QuantumCircuit, Aer, transpile, assemble, execute\n",
    "from qiskit.visualization import plot_histogram\n",
    "import numpy as np\n",
    "\n",
    "# Function to generate RSA keys\n",
    "def generate_rsa_keys(p, q):\n",
    "    n = p * q\n",
    "    phi = (p - 1) * (q - 1)\n",
    "    e = 65537  # Commonly used prime number for e\n",
    "    d = pow(e, -1, phi)\n",
    "    return (e, n), (d, n)\n",
    "\n",
    "# Function to encrypt a message\n",
    "def encrypt(message, public_key):\n",
    "    e, n = public_key\n",
    "    encrypted_message = [pow(ord(char), e, n) for char in message]\n",
    "    return encrypted_message\n",
    "\n",
    "# Function to decrypt a message\n",
    "def decrypt(encrypted_message, private_key):\n",
    "    d, n = private_key\n",
    "    decrypted_message = ''.join([chr(pow(char, d, n)) for char in encrypted_message])\n",
    "    return decrypted_message\n",
    "\n",
    "# Example usage\n",
    "p = 61\n",
    "q = 53\n",
    "public_key, private_key = generate_rsa_keys(p, q)\n",
    "message = \"HELLO\"\n",
    "encrypted_message = encrypt(message, public_key)\n",
    "decrypted_message = decrypt(encrypted_message, private_key)\n",
    "\n",
    "print(f\"Original Message: {message}\")\n",
    "print(f\"Encrypted Message: {encrypted_message}\")\n",
    "print(f\"Decrypted Message: {decrypted_message}\")\n",
    "\n",
    "# Shor's Algorithm Implementation with Logical Qubits\n",
    "# Now, let's use Qiskit to implement Shor's algorithm to factorize the RSA modulus and decrypt the message.\n",
    "\n",
    "from qiskit import Aer, execute\n",
    "from qiskit.circuit.library import QFT\n",
    "from qiskit.circuit import QuantumCircuit\n",
    "from qiskit.aqua.algorithms import Shor\n",
    "\n",
    "# Define the integer to be factored (RSA modulus)\n",
    "N = 61 * 53  # Example modulus from the RSA keys\n",
    "\n",
    "# Create an instance of Shor's algorithm\n",
    "shor = Shor(N)\n",
    "\n",
    "# Run the algorithm on a quantum simulator\n",
    "backend = Aer.get_backend('qasm_simulator')\n",
    "result = shor.run(backend)\n",
    "\n",
    "# Get the factors from the results\n",
    "factors = result['factors']\n",
    "print(f\"Factors of {N} are {factors}\")\n",
    "\n",
    "# Decrypt the message using the factors\n",
    "p, q = factors\n",
    "public_key, private_key = generate_rsa_keys(p, q)\n",
    "decrypted_message = decrypt(encrypted_message, private_key)\n",
    "\n",
    "print(f\"Decrypted Message: {decrypted_message}\")"
   ]
  }
 ],
 "metadata": {
  "kernelspec": {
   "display_name": "Python 3",
   "language": "python",
   "name": "python3"
  },
  "language_info": {
   "codemirror_mode": {
    "name": "ipython",
    "version": 3
   },
   "file_extension": ".py",
   "mimetype": "text/x-python",
   "name": "python",
   "nbconvert_exporter": "python",
   "pygments_lexer": "ipython3",
   "version": "3.8.20"
  }
 },
 "nbformat": 4,
 "nbformat_minor": 2
}
