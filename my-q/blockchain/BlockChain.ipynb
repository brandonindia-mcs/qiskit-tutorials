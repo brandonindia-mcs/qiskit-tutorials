{
 "cells": [
  {
   "cell_type": "code",
   "execution_count": 2,
   "metadata": {},
   "outputs": [
    {
     "name": "stdout",
     "output_type": "stream",
     "text": [
      "Block #1 has been added to the blockchain!\n",
      "Hash: 7d73bc4fda70820bb6d17971a8e6b8164b859c56a1c000729e27cee5c506ddc2\n",
      "\n",
      "Block #2 has been added to the blockchain!\n",
      "Hash: 09ca1431659b126c8e2e9f99e7ecb6eb01f6ea3bd3bbf62ad5589f006b16e5ea\n",
      "\n",
      "Block #3 has been added to the blockchain!\n",
      "Hash: 59f64f92493f4729750adc2742287e90bc15b9d0901f01aeae0e03bacba5c98e\n",
      "\n",
      "Block #4 has been added to the blockchain!\n",
      "Hash: ddd5974830d87067f41d449a52f4ddef4136af083165bdc1ffd37f7dc4bf5eab\n",
      "\n",
      "Block #5 has been added to the blockchain!\n",
      "Hash: 626078c42a8cd0a11b56836d61394da3ef48ae2678a5d39c16b87a367739883f\n",
      "\n"
     ]
    }
   ],
   "source": [
    "import hashlib\n",
    "import time\n",
    "\n",
    "class Block:\n",
    "    def __init__(self, index, previous_hash, timestamp, data, hash):\n",
    "        self.index = index\n",
    "        self.previous_hash = previous_hash\n",
    "        self.timestamp = timestamp\n",
    "        self.data = data\n",
    "        self.hash = hash\n",
    "\n",
    "def calculate_hash(index, previous_hash, timestamp, data):\n",
    "    value = str(index) + str(previous_hash) + str(timestamp) + str(data)\n",
    "    return hashlib.sha256(value.encode('utf-8')).hexdigest()\n",
    "\n",
    "def create_genesis_block():\n",
    "    return Block(0, \"0\", int(time.time()), \"Genesis Block\", calculate_hash(0, \"0\", int(time.time()), \"Genesis Block\"))\n",
    "\n",
    "def create_new_block(previous_block, data):\n",
    "    index = previous_block.index + 1\n",
    "    timestamp = int(time.time())\n",
    "    hash = calculate_hash(index, previous_block.hash, timestamp, data)\n",
    "    return Block(index, previous_block.hash, timestamp, data, hash)\n",
    "\n",
    "# Create the blockchain and add the genesis block\n",
    "blockchain = [create_genesis_block()]\n",
    "previous_block = blockchain[0]\n",
    "\n",
    "# Add new blocks to the blockchain\n",
    "num_of_blocks_to_add = 5\n",
    "\n",
    "for i in range(num_of_blocks_to_add):\n",
    "    data = f\"Block {i+1} Data\"\n",
    "    new_block = create_new_block(previous_block, data)\n",
    "    blockchain.append(new_block)\n",
    "    previous_block = new_block\n",
    "    print(f\"Block #{new_block.index} has been added to the blockchain!\")\n",
    "    print(f\"Hash: {new_block.hash}\\n\")\n"
   ]
  }
 ],
 "metadata": {
  "kernelspec": {
   "display_name": "Python 3",
   "language": "python",
   "name": "python3"
  },
  "language_info": {
   "codemirror_mode": {
    "name": "ipython",
    "version": 3
   },
   "file_extension": ".py",
   "mimetype": "text/x-python",
   "name": "python",
   "nbconvert_exporter": "python",
   "pygments_lexer": "ipython3",
   "version": "3.12.8"
  }
 },
 "nbformat": 4,
 "nbformat_minor": 2
}
