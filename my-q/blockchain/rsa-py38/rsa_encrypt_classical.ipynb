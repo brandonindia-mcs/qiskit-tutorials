{
 "cells": [
  {
   "cell_type": "code",
   "execution_count": 1,
   "metadata": {},
   "outputs": [
    {
     "name": "stdout",
     "output_type": "stream",
     "text": [
      "revision date: 2025-01-26 with Python 3.8.20 (default, Sep  7 2024, 18:35:08) \n",
      "[GCC 11.4.0]\n"
     ]
    },
    {
     "name": "stderr",
     "output_type": "stream",
     "text": [
      "/home/developer/.local/lib/python3.8/site-packages/qiskit/circuit/equivalence.py:18: DeprecationWarning: The retworkx package is deprecated and has been renamed to rustworkx. Rustworkx is a drop-in replacement and can be used by replacing `import retworkx` with import `rustworkx`. \n",
      "  import retworkx as rx\n",
      "/home/developer/.local/lib/python3.8/site-packages/qiskit/version.py:20: DeprecationWarning: pkg_resources is deprecated as an API. See https://setuptools.pypa.io/en/latest/pkg_resources.html\n",
      "  import pkg_resources\n",
      "/home/developer/.local/lib/python3.8/site-packages/qiskit/aqua/__init__.py:86: DeprecationWarning: The package qiskit.aqua is deprecated. It was moved/refactored to qiskit-terra For more information see <https://github.com/Qiskit/qiskit-aqua/blob/main/README.md#migration-guide>\n",
      "  warn_package('aqua', 'qiskit-terra')\n"
     ]
    },
    {
     "data": {
      "text/html": [
       "<h3>Version Information</h3><table><tr><th>Qiskit Software</th><th>Version</th></tr><tr><td><code>qiskit-terra</code></td><td>0.18.3</td></tr><tr><td><code>qiskit-aer</code></td><td>0.9.1</td></tr><tr><td><code>qiskit-ignis</code></td><td>0.6.0</td></tr><tr><td><code>qiskit-ibmq-provider</code></td><td>0.18.1</td></tr><tr><td><code>qiskit-aqua</code></td><td>0.9.5</td></tr><tr><td><code>qiskit</code></td><td>0.32.1</td></tr><tr><th>System information</th></tr><tr><td>Python</td><td>3.8.20 (default, Sep  7 2024, 18:35:08) \n",
       "[GCC 11.4.0]</td></tr><tr><td>OS</td><td>Linux</td></tr><tr><td>CPUs</td><td>1</td></tr><tr><td>Memory (Gb)</td><td>7.754844665527344</td></tr><tr><td colspan='2'>Sun Jan 26 14:57:43 2025 CST</td></tr></table>"
      ],
      "text/plain": [
       "<IPython.core.display.HTML object>"
      ]
     },
     "metadata": {},
     "output_type": "display_data"
    }
   ],
   "source": [
    "# pylint: disable=unused-import\n",
    "import sys\n",
    "from datetime import date\n",
    "print(f\"revision date: {date.today()} with Python {sys.version}\")\n",
    "import qiskit.tools.jupyter\n",
    "%qiskit_version_table"
   ]
  },
  {
   "cell_type": "code",
   "execution_count": 2,
   "metadata": {},
   "outputs": [
    {
     "name": "stdout",
     "output_type": "stream",
     "text": [
      "Encrypted message: b'\\xa1\\x9f%y\\xd9\\xcf\\xa8:\\xf0\\x90b6\\x8e\\xaakusy=\\xcd\\xf4\\x08\\xda\\xc3\\xb1J3=\\xfc6\\x1b\\x9a1\\\\\\x10>0\\x16W\\xe8\\\\\\xcb\\xd1FYn\\xdb.\\x8a\\xa9\\x1b\\xcb7i8\\x10]<b\\x15$\\x00$\"\\x1a\\x03[\\x9f;E\\xa9\\xe2=Q\\xaf\\xc1\\xf7m\\xea\\xf8\\x14\\xec3\\xc0$\\xadh\\x96R\\x9f\\x996\\xc0*K\\xb5\\xba\\x0c6\\x18\\xc1\\x1d\\x93Q\\xbe\\xf3\\xe9edz)\\xa7\\x9bR\\xd1\\x96\\xddJ\\xfa3\\t\\r\\xf9\\xd2H_\\xad\\xdbE\\x02;\\xeb\\xb7\\xcf\\x9e\\x07\\xe5\\xad\\x80<\\x84t\\xb9\\x94~\\x10Ub\\xc8J\\'\\x99\\xe1\\xe4\\xd9\\xd0K\\x88\\xda\\x1e\\xd13<\\x83\\x1c[\\xb9n;\\xdd\\xcfH\\xab]q\\xcaj/\\x96T\\x1f\\x1b\\x94\\xdb\\x0b\\xb0:\\x00\\x8b\\xeai\\x16\\x13\"\\xa8\\x14rV^_|\\xbf,\\x8d\\x10\\xe5\\xb9\\xf9\\xfe\\xa3\\xdb\\xbd\\x00\\x87F\\xc5\\xf0\\x85V\\xe2\\x9b#\\x14\\xfe\\x94\\xfb\\x8e\\x9b\\xa3\\xf4\\x97\\xab\\xf1\\x83\\x83\\xfe\\xd1\\xb0\\x94h\\xb5\\x98]\\x91L\\xa5\\x81{U\\x06P\\x9f\\xda\\xa9\\xf2k'\n",
      "Decrypted message: YourSecretPassword\n"
     ]
    }
   ],
   "source": [
    "from cryptography.hazmat.primitives import serialization\n",
    "from cryptography.hazmat.primitives.asymmetric import rsa, padding\n",
    "from cryptography.hazmat.primitives import hashes\n",
    "\n",
    "# # Read the private key from the PEM file\n",
    "# with open(\"./new_new_new_new_new_new_new_new_new_new_new_new_new_new_private_key.pem\", \"rb\") as f:\n",
    "#     private_key = serialization.load_pem_private_key(\n",
    "#         f.read(),\n",
    "#         password=None,\n",
    "#     )\n",
    "\n",
    "# # Example ciphertext (this would be the encrypted message you want to decrypt)\n",
    "# ciphertext = b\"this is it\"\n",
    "\n",
    "# # Decrypt the message with the private key\n",
    "# decrypted_message = private_key.decrypt(\n",
    "#     ciphertext,\n",
    "#     padding.OAEP(\n",
    "#         mgf=padding.MGF1(algorithm=hashes.SHA256()),\n",
    "#         algorithm=hashes.SHA256(),\n",
    "#         label=None,\n",
    "#     )\n",
    "# )\n",
    "\n",
    "# print(\"Decrypted message:\", decrypted_message.decode())\n",
    "\n",
    "# Generate RSA private and public keys\n",
    "private_key = rsa.generate_private_key(\n",
    "    public_exponent=65537,\n",
    "    key_size=2048,\n",
    ")\n",
    "\n",
    "public_key = private_key.public_key()\n",
    "\n",
    "# Save the keys to files (optional)\n",
    "with open(\"new_private_key.pem\", \"wb\") as f:\n",
    "    f.write(private_key.private_bytes(\n",
    "        encoding=serialization.Encoding.PEM,\n",
    "        format=serialization.PrivateFormat.PKCS8,\n",
    "        encryption_algorithm=serialization.NoEncryption(),\n",
    "    ))\n",
    "\n",
    "with open(\"new_public_key.pem\", \"wb\") as f:\n",
    "    f.write(public_key.public_bytes(\n",
    "        encoding=serialization.Encoding.PEM,\n",
    "        format=serialization.PublicFormat.SubjectPublicKeyInfo,\n",
    "    ))\n",
    "\n",
    "# Encrypt a message with the public key\n",
    "message = b\"YourSecretPassword\"\n",
    "ciphertext = public_key.encrypt(\n",
    "    message,\n",
    "    padding.OAEP(\n",
    "        mgf=padding.MGF1(algorithm=hashes.SHA256()),\n",
    "        algorithm=hashes.SHA256(),\n",
    "        label=None,\n",
    "    )\n",
    ")\n",
    "\n",
    "# Save the ciphertext to a file (optional)\n",
    "with open(\"ciphertext.bin\", \"wb\") as f:\n",
    "    f.write(ciphertext)\n",
    "\n",
    "print(\"Encrypted message:\", ciphertext)\n",
    "\n",
    "\n",
    "### **Decryption Process**:\n",
    "\n",
    "from cryptography.hazmat.primitives import serialization\n",
    "from cryptography.hazmat.primitives.asymmetric import padding\n",
    "from cryptography.hazmat.primitives import hashes\n",
    "\n",
    "# Read the private key from the PEM file\n",
    "with open(\"new_private_key.pem\", \"rb\") as f:\n",
    "    private_key = serialization.load_pem_private_key(\n",
    "        f.read(),\n",
    "        password=None,\n",
    "    )\n",
    "\n",
    "# Read the ciphertext from a file (if saved)\n",
    "with open(\"ciphertext.bin\", \"rb\") as f:\n",
    "    ciphertext = f.read()\n",
    "\n",
    "# Decrypt the message with the private key\n",
    "decrypted_message = private_key.decrypt(\n",
    "    ciphertext,\n",
    "    padding.OAEP(\n",
    "        mgf=padding.MGF1(algorithm=hashes.SHA256()),\n",
    "        algorithm=hashes.SHA256(),\n",
    "        label=None,\n",
    "    )\n",
    ")\n",
    "\n",
    "print(\"Decrypted message:\", decrypted_message.decode())\n"
   ]
  }
 ],
 "metadata": {
  "kernelspec": {
   "display_name": "Python 3",
   "language": "python",
   "name": "python3"
  },
  "language_info": {
   "codemirror_mode": {
    "name": "ipython",
    "version": 3
   },
   "file_extension": ".py",
   "mimetype": "text/x-python",
   "name": "python",
   "nbconvert_exporter": "python",
   "pygments_lexer": "ipython3",
   "version": "3.8.20"
  }
 },
 "nbformat": 4,
 "nbformat_minor": 2
}
