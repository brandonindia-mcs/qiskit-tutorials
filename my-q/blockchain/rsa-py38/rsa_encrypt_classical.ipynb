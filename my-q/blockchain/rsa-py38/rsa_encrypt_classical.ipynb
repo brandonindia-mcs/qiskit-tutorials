{
 "cells": [
  {
   "cell_type": "code",
   "execution_count": null,
   "metadata": {},
   "outputs": [
    {
     "name": "stdout",
     "output_type": "stream",
     "text": [
      "revision date: 2025-01-26 with Python 3.8.20 (default, Sep  7 2024, 18:35:08) \n",
      "[GCC 11.4.0]\n"
     ]
    }
   ],
   "source": [
    "# pylint: disable=unused-import\n",
    "import sys\n",
    "from datetime import date\n",
    "print(f\"revision date: {date.today()} with Python {sys.version}\")"
   ]
  },
  {
   "cell_type": "code",
   "execution_count": 2,
   "metadata": {},
   "outputs": [
    {
     "name": "stdout",
     "output_type": "stream",
     "text": [
      "Encrypted message: b'\\xa1\\x9f%y\\xd9\\xcf\\xa8:\\xf0\\x90b6\\x8e\\xaakusy=\\xcd\\xf4\\x08\\xda\\xc3\\xb1J3=\\xfc6\\x1b\\x9a1\\\\\\x10>0\\x16W\\xe8\\\\\\xcb\\xd1FYn\\xdb.\\x8a\\xa9\\x1b\\xcb7i8\\x10]<b\\x15$\\x00$\"\\x1a\\x03[\\x9f;E\\xa9\\xe2=Q\\xaf\\xc1\\xf7m\\xea\\xf8\\x14\\xec3\\xc0$\\xadh\\x96R\\x9f\\x996\\xc0*K\\xb5\\xba\\x0c6\\x18\\xc1\\x1d\\x93Q\\xbe\\xf3\\xe9edz)\\xa7\\x9bR\\xd1\\x96\\xddJ\\xfa3\\t\\r\\xf9\\xd2H_\\xad\\xdbE\\x02;\\xeb\\xb7\\xcf\\x9e\\x07\\xe5\\xad\\x80<\\x84t\\xb9\\x94~\\x10Ub\\xc8J\\'\\x99\\xe1\\xe4\\xd9\\xd0K\\x88\\xda\\x1e\\xd13<\\x83\\x1c[\\xb9n;\\xdd\\xcfH\\xab]q\\xcaj/\\x96T\\x1f\\x1b\\x94\\xdb\\x0b\\xb0:\\x00\\x8b\\xeai\\x16\\x13\"\\xa8\\x14rV^_|\\xbf,\\x8d\\x10\\xe5\\xb9\\xf9\\xfe\\xa3\\xdb\\xbd\\x00\\x87F\\xc5\\xf0\\x85V\\xe2\\x9b#\\x14\\xfe\\x94\\xfb\\x8e\\x9b\\xa3\\xf4\\x97\\xab\\xf1\\x83\\x83\\xfe\\xd1\\xb0\\x94h\\xb5\\x98]\\x91L\\xa5\\x81{U\\x06P\\x9f\\xda\\xa9\\xf2k'\n",
      "Decrypted message: YourSecretPassword\n"
     ]
    }
   ],
   "source": [
    "from cryptography.hazmat.primitives import serialization\n",
    "from cryptography.hazmat.primitives.asymmetric import rsa, padding\n",
    "from cryptography.hazmat.primitives import hashes\n",
    "\n",
    "# Generate RSA private and public keys\n",
    "private_key = rsa.generate_private_key(\n",
    "    public_exponent=65537,\n",
    "    key_size=2048,\n",
    ")\n",
    "\n",
    "public_key = private_key.public_key()\n",
    "\n",
    "def make_private_pem(keyname=\"./private_key.pem\"):\n",
    "    # Save the keys to files (optional)\n",
    "    with open(keyname, \"wb\") as f:\n",
    "        f.write(private_key.private_bytes(\n",
    "            encoding=serialization.Encoding.PEM,\n",
    "            format=serialization.PrivateFormat.PKCS8,\n",
    "            encryption_algorithm=serialization.NoEncryption(),\n",
    "        ))\n",
    "\n",
    "def make_public_pem(keyname=\"./public_key.pem\"):\n",
    "    with open(keyname, \"wb\") as f:\n",
    "        f.write(public_key.public_bytes(\n",
    "            encoding=serialization.Encoding.PEM,\n",
    "            format=serialization.PublicFormat.SubjectPublicKeyInfo,\n",
    "        ))\n",
    "\n",
    "def encrypt_message(message = b\"YourSecretPassword\"):\n",
    "    # Encrypt a message with the public key\n",
    "    ciphertext = public_key.encrypt(\n",
    "        message,\n",
    "        padding.OAEP(\n",
    "            mgf=padding.MGF1(algorithm=hashes.SHA256()),\n",
    "            algorithm=hashes.SHA256(),\n",
    "            label=None,\n",
    "        )\n",
    "    )\n",
    "    # Save the ciphertext to a file (optional)\n",
    "    with open(\"ciphertext.bin\", \"wb\") as f:\n",
    "        f.write(ciphertext)\n",
    "    print(\"Encrypted message:\", ciphertext)\n",
    "\n"
   ]
  }
 ],
 "metadata": {
  "kernelspec": {
   "display_name": "Python 3",
   "language": "python",
   "name": "python3"
  },
  "language_info": {
   "codemirror_mode": {
    "name": "ipython",
    "version": 3
   },
   "file_extension": ".py",
   "mimetype": "text/x-python",
   "name": "python",
   "nbconvert_exporter": "python",
   "pygments_lexer": "ipython3",
   "version": "3.8.20"
  }
 },
 "nbformat": 4,
 "nbformat_minor": 2
}
