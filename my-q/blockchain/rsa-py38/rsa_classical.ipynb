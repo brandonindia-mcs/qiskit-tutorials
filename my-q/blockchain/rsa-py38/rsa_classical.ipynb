{
 "cells": [
  {
   "cell_type": "code",
   "execution_count": 1,
   "metadata": {},
   "outputs": [
    {
     "name": "stdout",
     "output_type": "stream",
     "text": [
      "revision date: 2025-01-26 with Python 3.8.20 (default, Sep  7 2024, 18:35:08) \n",
      "[GCC 11.4.0]\n"
     ]
    }
   ],
   "source": [
    "# pylint: disable=unused-import\n",
    "import sys\n",
    "from datetime import date\n",
    "print(f\"revision date: {date.today()} with Python {sys.version}\")"
   ]
  },
  {
   "cell_type": "code",
   "execution_count": 4,
   "metadata": {},
   "outputs": [],
   "source": [
    "from cryptography.hazmat.primitives import serialization\n",
    "from cryptography.hazmat.primitives.asymmetric import rsa, padding\n",
    "from cryptography.hazmat.primitives import hashes\n",
    "from cryptography.hazmat.backends import default_backend\n",
    "\n",
    "def make_private_pem(keyname=\"./private_key.pem\"):\n",
    "    # Generate RSA private and public keys\n",
    "    private_key = rsa.generate_private_key(\n",
    "        public_exponent=65537,\n",
    "        key_size=2048,\n",
    "    )\n",
    "\n",
    "    # Save the keys to files (optional)\n",
    "    with open(keyname, \"wb\") as f:\n",
    "        f.write(private_key.private_bytes(\n",
    "            encoding=serialization.Encoding.PEM,\n",
    "            format=serialization.PrivateFormat.PKCS8,\n",
    "            encryption_algorithm=serialization.NoEncryption(),\n",
    "        ))\n",
    "\n",
    "def make_public_pem(keyname=\"./public_key.pem\"):\n",
    "    with open(keyname, \"wb\") as f:\n",
    "        f.write(public_key.public_bytes(\n",
    "            encoding=serialization.Encoding.PEM,\n",
    "            format=serialization.PublicFormat.SubjectPublicKeyInfo,\n",
    "        ))\n",
    "\n",
    "def encrypt_message(message = b\"YourSecretPassword\"):\n",
    "    # Encrypt a message with the public key\n",
    "    ciphertext = public_key.encrypt(\n",
    "        message,\n",
    "        padding.OAEP(\n",
    "            mgf=padding.MGF1(algorithm=hashes.SHA256()),\n",
    "            algorithm=hashes.SHA256(),\n",
    "            label=None,\n",
    "        )\n",
    "    )\n",
    "    return ciphertext\n",
    "\n",
    "def decrypt_message(private_key_path, ciphertext):\n",
    "    # Decrypt the message with the private key\n",
    "  with open(private_key_path, \"rb\") as key_file:\n",
    "    private_key = serialization.load_pem_private_key(\n",
    "        key_file.read(),\n",
    "        password=None,  # If the key is encrypted, provide the password here\n",
    "        backend=default_backend()\n",
    "    )\n",
    "    decrypted_message = private_key.decrypt(\n",
    "        ciphertext,\n",
    "        padding.OAEP(\n",
    "            mgf=padding.MGF1(algorithm=hashes.SHA256()),\n",
    "            algorithm=hashes.SHA256(),\n",
    "            label=None,\n",
    "        )\n",
    "    )\n",
    "    return decrypted_message\n",
    "\n"
   ]
  },
  {
   "cell_type": "code",
   "execution_count": 3,
   "metadata": {},
   "outputs": [
    {
     "name": "stdout",
     "output_type": "stream",
     "text": [
      "Encrypted message: b'\\x9b\\xc3\\x1f\\x8c\\x93\\xec\\x04\\\\h\\x0c\\x04\\xfd3\\nu\\xb3\\x1fICf\\x96V\\xbf\\x02^S\\xd1\\xa8\\xdc\\xbb5\\xcc\\x90\\xc8@\\xa7\\xa5\\x8d\\xf4\\x1c\\xa8\\x80_\\xc5]\\xbd\\x08\\xdf\\xd3\\x1a1p\\xa5{u?\\xc64\\x05\\x90\\x9eec\\xe86)\\x91\\xc7\\x12\\x80\\xe8)kNv6\\xb3V\\r\\xff\\x15b\\x8b\\xa5^\\x9bl\\xcf\\xcdU\\xa8\\x8b-h\\x1cF\\x83\\x7f\\x87.A\\xa4\\xd4\\xe7\\xa0\\xd8\\xdd\\xb0\\x04\\xc0[pA\\x19\\x8e->\"U\\xa7\\xfd\\xc9{\\xf1\\xb0\\xc5\\xa6<u\\x96+}\\xf1\\x15~Ln\\x03\\xc8\\xc9C\\x1b\\xb63B\\x19\\xf9NZ\\xdc\\xe0\\x01\\x03\\xa4\\xfd 7\\rah\\x81\\xd1,d\\xbc\\xe7\\xbfd\\xc5\\x80\\x8a\\x1d\\xcd\\x1e\\x0b\\xffr\\x1d\\x0cH\\x8f\\xb1\\xa4\\xa5\\x7f*\\xba\\xc8m\\x14\\x83\\xf2\\xc4U\\xe1}&\\xf76m?Jf\\x98J\"\\xc3v\\x1c?\\x8cPX\\x90\\xba\\x8d&\\x8b\\x0c\\xfb\\xb8\\xe4F\\x85\\x89N\\x16\\xfc\\x8c;\\x9e\\x04\\x99\\xc2\\x07M\\x03\\x8ct\\x1b\\x89\\xebh %\\x19\\x05\\xe3\\x8dYm3\\xfc\\\\^('\n",
      "Decrypted message: this is it\n"
     ]
    }
   ],
   "source": [
    "\n",
    "# def make_public_key():\n",
    "public_key = private_key.public_key()\n",
    "\n",
    "cyphertext = encrypt_message(b\"this is it\")\n",
    "print(f\"Encrypted message: {cyphertext}\")\n",
    "print(f\"Decrypted message: {decrypt_message(cyphertext).decode()}\")\n",
    "\n",
    "make_private_pem()\n",
    "make_public_pem()\n",
    "\n"
   ]
  },
  {
   "cell_type": "code",
   "execution_count": 8,
   "metadata": {},
   "outputs": [
    {
     "name": "stdout",
     "output_type": "stream",
     "text": [
      "Created ./new_private_key.pem and ./new_public_key.pem\n"
     ]
    }
   ],
   "source": [
    "from cryptography.hazmat.primitives import serialization\n",
    "from cryptography.hazmat.primitives.asymmetric import rsa, padding\n",
    "from cryptography.hazmat.primitives import hashes\n",
    "from cryptography.hazmat.backends import default_backend\n",
    "\n",
    "def make_private_pem(keyname=\"private_key.pem\"):\n",
    "  # Generate RSA private and public keys\n",
    "  private_key = rsa.generate_private_key(\n",
    "      public_exponent=65537,\n",
    "      key_size=2048,\n",
    "  )\n",
    "\n",
    "  # Save the keys to files (optional)\n",
    "  with open(keyname, \"wb\") as f:\n",
    "      f.write(private_key.private_bytes(\n",
    "          encoding=serialization.Encoding.PEM,\n",
    "          format=serialization.PrivateFormat.PKCS8,\n",
    "          encryption_algorithm=serialization.NoEncryption(),\n",
    "      ))\n",
    "  return keyname\n",
    "\n",
    "\n",
    "def make_public_pem(private_key_path, public_key_path=\"public_key.pem\"):\n",
    "  with open(private_key_path, \"rb\") as key_file:\n",
    "    private_key = serialization.load_pem_private_key(\n",
    "        key_file.read(),\n",
    "        password=None,  # If the key is encrypted, provide the password here\n",
    "        backend=default_backend()\n",
    "    )\n",
    "    public_key = private_key.public_key()\n",
    "    with open(public_key_path, \"wb\") as f:\n",
    "        f.write(public_key.public_bytes(\n",
    "            encoding=serialization.Encoding.PEM,\n",
    "            format=serialization.PublicFormat.SubjectPublicKeyInfo,\n",
    "        ))\n",
    "  return public_key_path\n",
    "\n",
    "def decrypt_message(private_key_path, ciphertext):\n",
    "  with open(private_key_path, \"rb\") as key_file:\n",
    "    private_key = serialization.load_pem_private_key(\n",
    "        key_file.read(),\n",
    "        password=None,  # If the key is encrypted, provide the password here\n",
    "        backend=default_backend()\n",
    "    )\n",
    "\n",
    "  plaintext = private_key.decrypt(\n",
    "      ciphertext,\n",
    "      padding.OAEP(\n",
    "          mgf=padding.MGF1(algorithm=hashes.SHA256()),\n",
    "          algorithm=hashes.SHA256(),\n",
    "          label=None\n",
    "      )\n",
    "  )\n",
    "\n",
    "  return plaintext\n",
    "\n",
    "private_key_path = \"./new_private_key.pem\"\n",
    "public_key_path = \"./new_public_key.pem\"\n",
    "private = make_private_pem(keyname=private_key_path)\n",
    "public = make_public_pem(private_key_path, public_key_path)\n",
    "print(f\"Created {private} and {public}\")\n",
    "\n",
    "# ciphertext = b\"absolutely!\"  # Replace with your actual ciphertext\n",
    "# decrypted_message = decrypt_message(private_key_path, ciphertext)\n",
    "# print(decrypted_message.decode('utf-8'))  # Decode the bytes to a string\n",
    "\n"
   ]
  }
 ],
 "metadata": {
  "kernelspec": {
   "display_name": "Python 3",
   "language": "python",
   "name": "python3"
  },
  "language_info": {
   "codemirror_mode": {
    "name": "ipython",
    "version": 3
   },
   "file_extension": ".py",
   "mimetype": "text/x-python",
   "name": "python",
   "nbconvert_exporter": "python",
   "pygments_lexer": "ipython3",
   "version": "3.8.20"
  }
 },
 "nbformat": 4,
 "nbformat_minor": 2
}
