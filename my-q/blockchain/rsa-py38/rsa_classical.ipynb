{
 "cells": [
  {
   "cell_type": "code",
   "execution_count": 1,
   "metadata": {},
   "outputs": [
    {
     "name": "stdout",
     "output_type": "stream",
     "text": [
      "revision date: 2025-01-26 with Python 3.8.20 (default, Sep  7 2024, 18:35:08) \n",
      "[GCC 11.4.0]\n"
     ]
    },
    {
     "name": "stderr",
     "output_type": "stream",
     "text": [
      "/home/developer/.local/lib/python3.8/site-packages/qiskit/circuit/equivalence.py:18: DeprecationWarning: The retworkx package is deprecated and has been renamed to rustworkx. Rustworkx is a drop-in replacement and can be used by replacing `import retworkx` with import `rustworkx`. \n",
      "  import retworkx as rx\n",
      "/home/developer/.local/lib/python3.8/site-packages/qiskit/version.py:20: DeprecationWarning: pkg_resources is deprecated as an API. See https://setuptools.pypa.io/en/latest/pkg_resources.html\n",
      "  import pkg_resources\n",
      "/home/developer/.local/lib/python3.8/site-packages/qiskit/aqua/__init__.py:86: DeprecationWarning: The package qiskit.aqua is deprecated. It was moved/refactored to qiskit-terra For more information see <https://github.com/Qiskit/qiskit-aqua/blob/main/README.md#migration-guide>\n",
      "  warn_package('aqua', 'qiskit-terra')\n"
     ]
    },
    {
     "data": {
      "text/html": [
       "<h3>Version Information</h3><table><tr><th>Qiskit Software</th><th>Version</th></tr><tr><td><code>qiskit-terra</code></td><td>0.18.3</td></tr><tr><td><code>qiskit-aer</code></td><td>0.9.1</td></tr><tr><td><code>qiskit-ignis</code></td><td>0.6.0</td></tr><tr><td><code>qiskit-ibmq-provider</code></td><td>0.18.1</td></tr><tr><td><code>qiskit-aqua</code></td><td>0.9.5</td></tr><tr><td><code>qiskit</code></td><td>0.32.1</td></tr><tr><th>System information</th></tr><tr><td>Python</td><td>3.8.20 (default, Sep  7 2024, 18:35:08) \n",
       "[GCC 11.4.0]</td></tr><tr><td>OS</td><td>Linux</td></tr><tr><td>CPUs</td><td>1</td></tr><tr><td>Memory (Gb)</td><td>7.754844665527344</td></tr><tr><td colspan='2'>Sun Jan 26 14:58:33 2025 CST</td></tr></table>"
      ],
      "text/plain": [
       "<IPython.core.display.HTML object>"
      ]
     },
     "metadata": {},
     "output_type": "display_data"
    }
   ],
   "source": [
    "# pylint: disable=unused-import\n",
    "import sys\n",
    "from datetime import date\n",
    "print(f\"revision date: {date.today()} with Python {sys.version}\")\n",
    "import qiskit.tools.jupyter\n",
    "%qiskit_version_table"
   ]
  },
  {
   "cell_type": "code",
   "execution_count": 2,
   "metadata": {},
   "outputs": [],
   "source": [
    "from cryptography.hazmat.primitives import serialization\n",
    "from cryptography.hazmat.primitives.asymmetric import rsa, padding\n",
    "from cryptography.hazmat.primitives import hashes\n",
    "\n",
    "def make_private_pem(keyname=\"./private_key.pem\"):\n",
    "    # Save the keys to files (optional)\n",
    "    with open(keyname, \"wb\") as f:\n",
    "        f.write(private_key.private_bytes(\n",
    "            encoding=serialization.Encoding.PEM,\n",
    "            format=serialization.PrivateFormat.PKCS8,\n",
    "            encryption_algorithm=serialization.NoEncryption(),\n",
    "        ))\n",
    "\n",
    "def make_public_pem(keyname=\"./public_key.pem\"):\n",
    "    with open(keyname, \"wb\") as f:\n",
    "        f.write(public_key.public_bytes(\n",
    "            encoding=serialization.Encoding.PEM,\n",
    "            format=serialization.PublicFormat.SubjectPublicKeyInfo,\n",
    "        ))\n",
    "\n",
    "def encrypt_message(message = b\"YourSecretPassword\"):\n",
    "    # Encrypt a message with the public key\n",
    "    ciphertext = public_key.encrypt(\n",
    "        message,\n",
    "        padding.OAEP(\n",
    "            mgf=padding.MGF1(algorithm=hashes.SHA256()),\n",
    "            algorithm=hashes.SHA256(),\n",
    "            label=None,\n",
    "        )\n",
    "    )\n",
    "    return ciphertext\n",
    "\n",
    "def decrypt_message(ciphertext):\n",
    "    # Decrypt the message with the private key\n",
    "    decrypted_message = private_key.decrypt(\n",
    "        ciphertext,\n",
    "        padding.OAEP(\n",
    "            mgf=padding.MGF1(algorithm=hashes.SHA256()),\n",
    "            algorithm=hashes.SHA256(),\n",
    "            label=None,\n",
    "        )\n",
    "    )\n",
    "    return decrypted_message\n",
    "\n",
    "# def make_private_key():\n",
    "# Generate RSA private and public keys\n",
    "private_key = rsa.generate_private_key(\n",
    "    public_exponent=65537,\n",
    "    key_size=2048,\n",
    ")\n",
    "\n",
    "# def make_public_key():\n",
    "public_key = private_key.public_key()\n",
    "\n"
   ]
  },
  {
   "cell_type": "code",
   "execution_count": 3,
   "metadata": {},
   "outputs": [
    {
     "name": "stdout",
     "output_type": "stream",
     "text": [
      "Encrypted message: b'\\x9b\\xc3\\x1f\\x8c\\x93\\xec\\x04\\\\h\\x0c\\x04\\xfd3\\nu\\xb3\\x1fICf\\x96V\\xbf\\x02^S\\xd1\\xa8\\xdc\\xbb5\\xcc\\x90\\xc8@\\xa7\\xa5\\x8d\\xf4\\x1c\\xa8\\x80_\\xc5]\\xbd\\x08\\xdf\\xd3\\x1a1p\\xa5{u?\\xc64\\x05\\x90\\x9eec\\xe86)\\x91\\xc7\\x12\\x80\\xe8)kNv6\\xb3V\\r\\xff\\x15b\\x8b\\xa5^\\x9bl\\xcf\\xcdU\\xa8\\x8b-h\\x1cF\\x83\\x7f\\x87.A\\xa4\\xd4\\xe7\\xa0\\xd8\\xdd\\xb0\\x04\\xc0[pA\\x19\\x8e->\"U\\xa7\\xfd\\xc9{\\xf1\\xb0\\xc5\\xa6<u\\x96+}\\xf1\\x15~Ln\\x03\\xc8\\xc9C\\x1b\\xb63B\\x19\\xf9NZ\\xdc\\xe0\\x01\\x03\\xa4\\xfd 7\\rah\\x81\\xd1,d\\xbc\\xe7\\xbfd\\xc5\\x80\\x8a\\x1d\\xcd\\x1e\\x0b\\xffr\\x1d\\x0cH\\x8f\\xb1\\xa4\\xa5\\x7f*\\xba\\xc8m\\x14\\x83\\xf2\\xc4U\\xe1}&\\xf76m?Jf\\x98J\"\\xc3v\\x1c?\\x8cPX\\x90\\xba\\x8d&\\x8b\\x0c\\xfb\\xb8\\xe4F\\x85\\x89N\\x16\\xfc\\x8c;\\x9e\\x04\\x99\\xc2\\x07M\\x03\\x8ct\\x1b\\x89\\xebh %\\x19\\x05\\xe3\\x8dYm3\\xfc\\\\^('\n",
      "Decrypted message: this is it\n"
     ]
    }
   ],
   "source": [
    "cyphertext = encrypt_message(b\"this is it\")\n",
    "print(f\"Encrypted message: {cyphertext}\")\n",
    "print(f\"Decrypted message: {decrypt_message(cyphertext).decode()}\")\n",
    "\n",
    "make_private_pem()\n",
    "make_public_pem()\n",
    "\n"
   ]
  }
 ],
 "metadata": {
  "kernelspec": {
   "display_name": "Python 3",
   "language": "python",
   "name": "python3"
  },
  "language_info": {
   "codemirror_mode": {
    "name": "ipython",
    "version": 3
   },
   "file_extension": ".py",
   "mimetype": "text/x-python",
   "name": "python",
   "nbconvert_exporter": "python",
   "pygments_lexer": "ipython3",
   "version": "3.8.20"
  }
 },
 "nbformat": 4,
 "nbformat_minor": 2
}
