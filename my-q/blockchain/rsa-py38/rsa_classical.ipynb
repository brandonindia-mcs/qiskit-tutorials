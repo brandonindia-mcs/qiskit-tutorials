{
 "cells": [
  {
   "cell_type": "code",
   "execution_count": 1,
   "metadata": {},
   "outputs": [
    {
     "name": "stdout",
     "output_type": "stream",
     "text": [
      "revision date: 2025-01-26 with Python 3.8.20 (default, Sep  7 2024, 18:35:08) \n",
      "[GCC 11.4.0]\n"
     ]
    }
   ],
   "source": [
    "# pylint: disable=unused-import\n",
    "import sys\n",
    "from datetime import date\n",
    "print(f\"revision date: {date.today()} with Python {sys.version}\")"
   ]
  },
  {
   "cell_type": "code",
   "execution_count": 16,
   "metadata": {},
   "outputs": [],
   "source": [
    "from cryptography.hazmat.primitives import serialization\n",
    "from cryptography.hazmat.primitives.asymmetric import rsa, padding\n",
    "from cryptography.hazmat.primitives import hashes\n",
    "\n",
    "def make_private_pem(keyname=\"./private_key.pem\"):\n",
    "    # Save the keys to files (optional)\n",
    "    with open(keyname, \"wb\") as f:\n",
    "        f.write(private_key.private_bytes(\n",
    "            encoding=serialization.Encoding.PEM,\n",
    "            format=serialization.PrivateFormat.PKCS8,\n",
    "            encryption_algorithm=serialization.NoEncryption(),\n",
    "        ))\n",
    "\n",
    "def make_public_pem(keyname=\"./public_key.pem\"):\n",
    "    with open(keyname, \"wb\") as f:\n",
    "        f.write(public_key.public_bytes(\n",
    "            encoding=serialization.Encoding.PEM,\n",
    "            format=serialization.PublicFormat.SubjectPublicKeyInfo,\n",
    "        ))\n",
    "\n",
    "def encrypt_message(message = b\"YourSecretPassword\"):\n",
    "    # Encrypt a message with the public key\n",
    "    ciphertext = public_key.encrypt(\n",
    "        message,\n",
    "        padding.OAEP(\n",
    "            mgf=padding.MGF1(algorithm=hashes.SHA256()),\n",
    "            algorithm=hashes.SHA256(),\n",
    "            label=None,\n",
    "        )\n",
    "    )\n",
    "    return ciphertext\n",
    "\n",
    "def decrypt_message(ciphertext):\n",
    "    # Decrypt the message with the private key\n",
    "    decrypted_message = private_key.decrypt(\n",
    "        ciphertext,\n",
    "        padding.OAEP(\n",
    "            mgf=padding.MGF1(algorithm=hashes.SHA256()),\n",
    "            algorithm=hashes.SHA256(),\n",
    "            label=None,\n",
    "        )\n",
    "    )\n",
    "    return decrypted_message\n",
    "\n"
   ]
  },
  {
   "cell_type": "code",
   "execution_count": 17,
   "metadata": {},
   "outputs": [
    {
     "name": "stdout",
     "output_type": "stream",
     "text": [
      "Encrypted message: b'EA\\x1d\\x1d\\xec\"C$\\x08\\x08\\xdf\\x04A\\x1a\\xd4K\\xebX\\x86S\\x80\\xd6\\xe5\\xc7\\xbd\\x13dE\\xc2\\'\\xfb\\xb8\\xdf\\xd1~\\x85o\\x9f\\x13\\xdf\\n\\x98F\\x17\\x80\\xb7&\\xb7\\xb6\\xa7cY[\\xf0\\x8c\\x94\\x13\\x89r5\\x97 \\xd5H\\n\\x18\\xe9\\xd5\\xf7\\xd20\\xf4\\xb4:\\xf3\\xa2\\x1fy\\xc9\\xb6[\\x97z\\xf5t!\\xe1\\x87L\\x8f\\xdd\\xa1\\x8em9\\x18\\xf0)\\xcfd\\xa1\\xd0\\x8c\\x9as\\xcf\\x8a\\x18\\xe1\\x01\\xb3\\x0fW\\x9d\\x9e\\xa1\\xd5\\x8c\\x0e\\x88\\x19\\x99|_3~\\x93\\x8c\\xb3\\x91\\xc9\\x06\\x82\\x12\\xab\\xb6c\\x87\\xceQzJ\\x0b\\xc9\\xaf\\xb3s\\xc0\\x1b\\x0c\\xe3m\\xb3\\xc2Rd\\xd6\\xd22TO4A\\xf1\\x83\\xce\\x1d\\x88x\\xfav\\xbeB\\xb7N{$25\\x02\"\\xe0\\xe4?\\xf1\\xc1\\x0c\\x92\"\\xcf\\x07\\x1d\\xcb\\xbe\\xb3\\x17,\\x00b\\x06\\xb3O\\xfd\\x9b/IT|\\xcd<\\xbfYs\\xe6W\\x06\\xec\\xbb\\xe66\\xae\\xe4q\\xb9\\xb3Oy\\xdb\\xba\\xeb\\xf5\\xb8\\xf6\\xe0\\xc6\\xbf\\x86h*\\xf6\\x1b\\x8a#\\xa3\\xa4\\\\\\x8b\\x12\\xe1{h\\xebiN2\\\\'\n",
      "Decrypted message: this is it\n"
     ]
    }
   ],
   "source": [
    "# Generate RSA private and public keys\n",
    "private_key = rsa.generate_private_key(\n",
    "    public_exponent=65537,\n",
    "    key_size=2048,\n",
    ")\n",
    "\n",
    "# def make_public_key():\n",
    "public_key = private_key.public_key()\n",
    "\n",
    "cyphertext = encrypt_message(b\"this is it\")\n",
    "print(f\"Encrypted message: {cyphertext}\")\n",
    "print(f\"Decrypted message: {decrypt_message(cyphertext).decode()}\")\n",
    "\n",
    "make_private_pem()\n",
    "make_public_pem()\n",
    "\n"
   ]
  },
  {
   "cell_type": "code",
   "execution_count": 18,
   "metadata": {},
   "outputs": [
    {
     "name": "stdout",
     "output_type": "stream",
     "text": [
      "Created ./new_private_key.pem and ./new_public_key.pem\n",
      "Encrypted message: b\"\\x99(\\x91\\xc4\\x83\\xa4\\xdag{\\xb0\\x8b8jmb\\x92\\x7f\\x8f\\xdf\\xc4\\xfe\\xdaK\\xd7\\x8cK&e\\xf2:\\xbc\\xadf\\x15\\xa3\\x99\\x81\\x19k\\x7f\\xa0!\\xce\\xad6.5\\x00n'/^\\xfa<\\xbaF\\xdf\\xffq`}M2\\xb0\\xd9\\xb4l\\xfa\\xe2\\x0e\\xff\\xff+CA'\\xf1\\x1c#\\x89\\xc9\\x02\\xe0ug\\x07Y\\xdf6 \\xbaJ\\x89\\xfdi\\xadId,9\\x1c\\xc5\\xf7\\x05zq\\xd7\\xc0\\xe9\\xd5\\x00\\xa4\\xd0^J\\x15:xb4\\xf7C(\\xb0[\\xa3]\\xfdL\\xda@}\\xc5\\xbdo\\\\\\xcc\\xd6\\x04e\\x0e\\xdci\\xee\\\\9\\xa9\\x86\\x16\\xa0\\xfbZ\\x1e>\\xd6\\xae\\x8c\\x03\\xe5\\x12z\\x02DU\\xaaH`\\\\\\x84E\\xd6F\\x88\\xddu\\xb2\\xac$\\xc3\\xb05 \\x91m\\x01\\xe9\\xce\\xff+0DfJ\\x07\\xd1\\x94\\xba\\xfa\\x1fU\\xf5\\xd3\\x8b+\\xfc_7\\x8d@\\x1b\\xc4'1L\\xb7+\\xa0)\\xd4\\xfa\\xc1\\x89\\xce\\xceK\\xd6\\xef$t\\x89l\\x98'\\x18\\x1b\\xab\\xdf\\x1a\\xcc\\xcf\\xdd0wEx\\xc6\\t\\x12\\xc0\\t%\\x16\\xf8w\\xef|\"\n",
      "absolutely!\n"
     ]
    }
   ],
   "source": [
    "from cryptography.hazmat.primitives import serialization\n",
    "from cryptography.hazmat.primitives.asymmetric import rsa, padding\n",
    "from cryptography.hazmat.primitives import hashes\n",
    "from cryptography.hazmat.backends import default_backend\n",
    "\n",
    "def make_private_pem(keyname=\"private_key.pem\"):\n",
    "  # Generate RSA private and public keys\n",
    "  private_key = rsa.generate_private_key(\n",
    "      public_exponent=65537,\n",
    "      key_size=2048,\n",
    "  )\n",
    "\n",
    "  # Save the keys to files (optional)\n",
    "  with open(keyname, \"wb\") as f:\n",
    "      f.write(private_key.private_bytes(\n",
    "          encoding=serialization.Encoding.PEM,\n",
    "          format=serialization.PrivateFormat.PKCS8,\n",
    "          encryption_algorithm=serialization.NoEncryption(),\n",
    "      ))\n",
    "  return keyname\n",
    "\n",
    "def make_public_pem(private_key_path, public_key_path=\"public_key.pem\"):\n",
    "  with open(private_key_path, \"rb\") as key_file:\n",
    "    private_key = serialization.load_pem_private_key(\n",
    "        key_file.read(),\n",
    "        password=None,  # If the key is encrypted, provide the password here\n",
    "        backend=default_backend()\n",
    "    )\n",
    "    public_key = private_key.public_key()\n",
    "    with open(public_key_path, \"wb\") as f:\n",
    "        f.write(public_key.public_bytes(\n",
    "            encoding=serialization.Encoding.PEM,\n",
    "            format=serialization.PublicFormat.SubjectPublicKeyInfo,\n",
    "        ))\n",
    "  return public_key_path\n",
    "\n",
    "def encrypt_message(public_key_path=\"./public_key.pem\", ciphertext_file_path=\"ciphertext.bin\", message=b\"YourSecretPassword\"):\n",
    "    # Load the public key from a PEM file\n",
    "    with open(public_key_path, \"rb\") as f:\n",
    "        public_key = serialization.load_pem_public_key(f.read())\n",
    "\n",
    "    # Encrypt a message with the public key\n",
    "    ciphertext = public_key.encrypt(\n",
    "        message,\n",
    "        padding.OAEP(\n",
    "            mgf=padding.MGF1(algorithm=hashes.SHA256()),\n",
    "            algorithm=hashes.SHA256(),\n",
    "            label=None,\n",
    "        )\n",
    "    )\n",
    "    # Save the ciphertext to a file (optional)\n",
    "    with open(ciphertext_file_path, \"wb\") as f:\n",
    "        f.write(ciphertext)\n",
    "    print(\"Encrypted message:\", ciphertext)\n",
    "\n",
    "def decrypt_message(private_key_path, ciphertext_file_path):\n",
    "  with open(private_key_path, \"rb\") as key_file:\n",
    "    private_key = serialization.load_pem_private_key(\n",
    "        key_file.read(),\n",
    "        password=None,  # If the key is encrypted, provide the password here\n",
    "        backend=default_backend()\n",
    "    )\n",
    "\n",
    "    # Read the ciphertext from a file\n",
    "    with open(ciphertext_file_path, \"rb\") as f:\n",
    "        ciphertext = f.read()\n",
    "\n",
    "  plaintext = private_key.decrypt(\n",
    "      ciphertext,\n",
    "      padding.OAEP(\n",
    "          mgf=padding.MGF1(algorithm=hashes.SHA256()),\n",
    "          algorithm=hashes.SHA256(),\n",
    "          label=None\n",
    "      )\n",
    "  )\n",
    "\n",
    "  return plaintext\n",
    "\n",
    "private_key_path = \"./new_private_key.pem\"\n",
    "public_key_path = \"./new_public_key.pem\"\n",
    "private = make_private_pem(keyname=private_key_path)\n",
    "public = make_public_pem(private_key_path, public_key_path)\n",
    "print(f\"Created {private} and {public}\")\n",
    "\n",
    "byte_text = b\"absolutely!\"  # Replace with your actual ciphertext\n",
    "encrypt_message(public_key_path=public_key_path, ciphertext_file_path=\"ciphertext.bin\", message=byte_text)\n",
    "decrypted_message = decrypt_message(private_key_path, ciphertext_file_path=\"ciphertext.bin\")\n",
    "print(decrypted_message.decode('utf-8'))  # Decode the bytes to a string\n",
    "\n"
   ]
  }
 ],
 "metadata": {
  "kernelspec": {
   "display_name": "Python 3",
   "language": "python",
   "name": "python3"
  },
  "language_info": {
   "codemirror_mode": {
    "name": "ipython",
    "version": 3
   },
   "file_extension": ".py",
   "mimetype": "text/x-python",
   "name": "python",
   "nbconvert_exporter": "python",
   "pygments_lexer": "ipython3",
   "version": "3.8.20"
  }
 },
 "nbformat": 4,
 "nbformat_minor": 2
}
