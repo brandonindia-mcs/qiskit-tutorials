{
 "cells": [
  {
   "cell_type": "code",
   "execution_count": 1,
   "metadata": {},
   "outputs": [
    {
     "name": "stdout",
     "output_type": "stream",
     "text": [
      "revision date: 2025-01-26 with Python 3.8.20 (default, Sep  7 2024, 18:35:08) \n",
      "[GCC 11.4.0]\n"
     ]
    }
   ],
   "source": [
    "# pylint: disable=unused-import\n",
    "import sys\n",
    "from datetime import date\n",
    "print(f\"revision date: {date.today()} with Python {sys.version}\")"
   ]
  },
  {
   "cell_type": "code",
   "execution_count": 4,
   "metadata": {},
   "outputs": [
    {
     "name": "stdout",
     "output_type": "stream",
     "text": [
      "Decrypted message: YourSecretPassword\n"
     ]
    }
   ],
   "source": [
    "### **Decryption Process**:\n",
    "\n",
    "from cryptography.hazmat.primitives import serialization\n",
    "from cryptography.hazmat.primitives.asymmetric import padding\n",
    "from cryptography.hazmat.primitives import hashes\n",
    "\n",
    "# Read the private key from the PEM file\n",
    "with open(\"new_private_key.pem\", \"rb\") as f:\n",
    "    private_key = serialization.load_pem_private_key(\n",
    "        f.read(),\n",
    "        password=None,\n",
    "    )\n",
    "\n",
    "# Read the ciphertext from a file (if saved)\n",
    "with open(\"ciphertext.bin\", \"rb\") as f:\n",
    "    ciphertext = f.read()\n",
    "\n",
    "# Decrypt the message with the private key\n",
    "decrypted_message = private_key.decrypt(\n",
    "    ciphertext,\n",
    "    padding.OAEP(\n",
    "        mgf=padding.MGF1(algorithm=hashes.SHA256()),\n",
    "        algorithm=hashes.SHA256(),\n",
    "        label=None,\n",
    "    )\n",
    ")\n",
    "\n",
    "print(\"Decrypted message:\", decrypted_message.decode())\n"
   ]
  }
 ],
 "metadata": {
  "kernelspec": {
   "display_name": "Python 3",
   "language": "python",
   "name": "python3"
  },
  "language_info": {
   "codemirror_mode": {
    "name": "ipython",
    "version": 3
   },
   "file_extension": ".py",
   "mimetype": "text/x-python",
   "name": "python",
   "nbconvert_exporter": "python",
   "pygments_lexer": "ipython3",
   "version": "3.8.20"
  }
 },
 "nbformat": 4,
 "nbformat_minor": 2
}
