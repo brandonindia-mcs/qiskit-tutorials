{
 "cells": [
  {
   "cell_type": "code",
   "execution_count": 15,
   "metadata": {},
   "outputs": [
    {
     "name": "stdout",
     "output_type": "stream",
     "text": [
      "revision date: 2025-01-26 with Python 3.12.8 (main, Dec  4 2024, 08:54:12) [GCC 11.4.0]\n",
      "qiskit: 1.3.2\n"
     ]
    }
   ],
   "source": [
    "# pylint: disable=unused-import\n",
    "import sys\n",
    "from datetime import date\n",
    "print(f\"revision date: {date.today()} with Python {sys.version}\")\n",
    "from qiskit import __version__\n",
    "print(f\"qiskit: {__version__}\") "
   ]
  },
  {
   "cell_type": "code",
   "execution_count": 16,
   "metadata": {},
   "outputs": [
    {
     "data": {
      "text/html": [
       "<pre style=\"word-wrap: normal;white-space: pre;background: #fff0;line-height: 1.1;font-family: &quot;Courier New&quot;,Courier,monospace\">   ┌─────────────────────────────┐\n",
       "q: ┤ U(angle_1,angle_2,angle_10) ├\n",
       "   └─────────────────────────────┘</pre>"
      ],
      "text/plain": [
       "   ┌─────────────────────────────┐\n",
       "q: ┤ U(angle_1,angle_2,angle_10) ├\n",
       "   └─────────────────────────────┘"
      ]
     },
     "execution_count": 16,
     "metadata": {},
     "output_type": "execute_result"
    }
   ],
   "source": [
    "from qiskit.circuit import QuantumCircuit, Parameter\n",
    "angles = [Parameter(\"angle_1\"), Parameter(\"angle_2\"), Parameter(\"angle_10\")]\n",
    "circuit = QuantumCircuit(1)\n",
    "circuit.u(*angles, 0)\n",
    "circuit.draw()"
   ]
  },
  {
   "cell_type": "code",
   "execution_count": 17,
   "metadata": {},
   "outputs": [
    {
     "data": {
      "image/png": "[encoded data removed]",
      "text/plain": [
       "<Figure size 203.885x367.889 with 1 Axes>"
      ]
     },
     "execution_count": 17,
     "metadata": {},
     "output_type": "execute_result"
    }
   ],
   "source": [
    "from qiskit import QuantumCircuit\n",
    "qc = QuantumCircuit(3, 1)\n",
    "qc.x(0)\n",
    "qc.measure(1,0)\n",
    "qc.draw(output='mpl')"
   ]
  },
  {
   "cell_type": "code",
   "execution_count": 22,
   "metadata": {},
   "outputs": [
    {
     "data": {
      "image/png": "[encoded data removed]",
      "text/plain": [
       "<Figure size 269.064x200.667 with 1 Axes>"
      ]
     },
     "execution_count": 22,
     "metadata": {},
     "output_type": "execute_result"
    }
   ],
   "source": [
    "from qiskit import QuantumRegister, ClassicalRegister, QuantumCircuit\n",
    "qc = QuantumCircuit(1, 1)\n",
    "qc.h(0)\n",
    "qc.measure(0, 0)\n",
    "qc.draw(output='mpl', style={'backgroundcolor': '#EEEEEE'})\n",
    "\n"
   ]
  },
  {
   "cell_type": "code",
   "execution_count": 23,
   "metadata": {},
   "outputs": [
    {
     "name": "stdout",
     "output_type": "stream",
     "text": [
      "revision date: 2025-01-26 with Python 3.12.8 (main, Dec  4 2024, 08:54:12) [GCC 11.4.0]\n",
      "qiskit: 1.3.2\n"
     ]
    }
   ],
   "source": [
    "# pylint: disable=unused-import\n",
    "import sys\n",
    "from datetime import date\n",
    "print(f\"revision date: {date.today()} with Python {sys.version}\")\n",
    "print(f\"qiskit: {__version__}\") "
   ]
  }
 ],
 "metadata": {
  "kernelspec": {
   "display_name": ".qiskit-py312-env",
   "language": "python",
   "name": "python3"
  },
  "language_info": {
   "codemirror_mode": {
    "name": "ipython",
    "version": 3
   },
   "file_extension": ".py",
   "mimetype": "text/x-python",
   "name": "python",
   "nbconvert_exporter": "python",
   "pygments_lexer": "ipython3",
   "version": "3.12.8"
  }
 },
 "nbformat": 4,
 "nbformat_minor": 2
}
