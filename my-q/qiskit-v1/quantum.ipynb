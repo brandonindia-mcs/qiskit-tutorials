{
 "cells": [
  {
   "cell_type": "markdown",
   "metadata": {},
   "source": []
  },
  {
   "cell_type": "code",
   "execution_count": 1,
   "metadata": {},
   "outputs": [
    {
     "name": "stdout",
     "output_type": "stream",
     "text": [
      "revision date: 2025-01-26 with Python 3.12.8 (main, Dec  4 2024, 08:54:12) [GCC 11.4.0]\n",
      "qiskit: 1.3.2\n"
     ]
    }
   ],
   "source": [
    "# pylint: disable=unused-import\n",
    "import sys\n",
    "from datetime import date\n",
    "print(f\"revision date: {date.today()} with Python {sys.version}\")\n",
    "from qiskit import __version__\n",
    "print(f\"qiskit: {__version__}\") "
   ]
  },
  {
   "cell_type": "code",
   "execution_count": 2,
   "metadata": {},
   "outputs": [],
   "source": [
    "from qiskit import QuantumCircuit, transpile, assemble\n",
    "from qiskit_aer import AerSimulator\n",
    "\n",
    "def simulate(circuit, simulator=AerSimulator()):\n",
    "    #execute the circuit on a simulator\n",
    "    compiled_circuit = transpile(circuit, simulator)\n",
    "    \n",
    "    job = simulator.run(compiled_circuit)\n",
    "    # print(f\"job: {job}\")\n",
    "\n",
    "    return job.result()\n",
    "    # result = job.result()\n",
    "    # print(f\"result: {result}\")\n",
    "\n",
    "    #get counts of the outcomes\n",
    "    # counts = result.get_counts(circuit)\n",
    "    # print(f\"counts: {counts}\")\n",
    "\n",
    "simulator = AerSimulator()\n"
   ]
  },
  {
   "cell_type": "code",
   "execution_count": 3,
   "metadata": {},
   "outputs": [
    {
     "name": "stdout",
     "output_type": "stream",
     "text": [
      "{'0': 501, '1': 523}\n"
     ]
    }
   ],
   "source": [
    "#create a circuit acting on a quantum register of one qubit\n",
    "circuit = QuantumCircuit(1, 1)\n",
    "\n",
    "#apply Hadamard to qubit 0\n",
    "circuit.h(0)\n",
    "\n",
    "#measure qubit 0\n",
    "circuit.measure(0 ,0)\n",
    "result = simulate(circuit, simulator)\n",
    "print(result.get_counts())\n"
   ]
  },
  {
   "cell_type": "markdown",
   "metadata": {},
   "source": [
    "### 12 Coin Flip/Unflip\n"
   ]
  },
  {
   "cell_type": "code",
   "execution_count": 4,
   "metadata": {},
   "outputs": [
    {
     "name": "stdout",
     "output_type": "stream",
     "text": [
      "### effects of a single Hadamard gate, ~ 50/50 split over |0> & |1>\n",
      "{'0': 535, '1': 489}\n",
      "### note the double Hadamard \"undoing\" itself\n",
      "{'0': 1024}\n"
     ]
    }
   ],
   "source": [
    "print('### effects of a single Hadamard gate, ~ 50/50 split over |0> & |1>')\n",
    "circuit = QuantumCircuit(1, 1)\n",
    "circuit.h(0)\n",
    "circuit.measure(0, 0)\n",
    "print(simulate(circuit, simulator).get_counts())\n",
    "\n",
    "circuit = QuantumCircuit(1, 1)\n",
    "\n",
    "print('### note the double Hadamard \"undoing\" itself')\n",
    "circuit.h(0)\n",
    "circuit.h(0)\n",
    "circuit.measure(0 ,0)\n",
    "print(simulate(circuit, simulator).get_counts())\n"
   ]
  },
  {
   "cell_type": "markdown",
   "metadata": {},
   "source": [
    "### 12 New Coin Flip/Unflip\n"
   ]
  },
  {
   "cell_type": "code",
   "execution_count": 5,
   "metadata": {},
   "outputs": [
    {
     "name": "stdout",
     "output_type": "stream",
     "text": [
      "### Three measurements, same qubit produces three disparate result sets\n"
     ]
    },
    {
     "name": "stdout",
     "output_type": "stream",
     "text": [
      "{'0': 526, '1': 498}\n",
      "{'0 0': 498, '1 1': 526}\n",
      "{'0 0 0': 476, '1 1 1': 548}\n"
     ]
    }
   ],
   "source": [
    "circuit = QuantumCircuit(1)\n",
    "circuit.h(0)\n",
    "\n",
    "print(\"### Three measurements, same qubit produces three disparate result sets\")\n",
    "circuit.measure_all()\n",
    "print(simulate(circuit, simulator).get_counts())\n",
    "circuit.measure_all()\n",
    "print(simulate(circuit, simulator).get_counts())\n",
    "circuit.measure_all()\n",
    "print(simulate(circuit, simulator).get_counts())\n"
   ]
  },
  {
   "cell_type": "code",
   "execution_count": 6,
   "metadata": {},
   "outputs": [
    {
     "name": "stdout",
     "output_type": "stream",
     "text": [
      "sampler: <qiskit_aer.primitives.sampler_v2.SamplerV2 object at 0x7f02d1f47c50>\n",
      "primitive_job: <qiskit.primitives.primitive_job.PrimitiveJob object at 0x7f02d0939fd0>\n",
      "result: PrimitiveResult([SamplerPubResult(data=DataBin(meas=BitArray(<shape=(), num_shots=128, num_bits=1>)), metadata={'shots': 128, 'circuit_metadata': {}, 'simulator_metadata': {'time_taken_parameter_binding': 1.9591e-05, 'time_taken_execute': 0.001946062, 'omp_enabled': True, 'max_gpu_memory_mb': 0, 'max_memory_mb': 7940, 'parallel_experiments': 1}})], metadata={'version': 2})\n"
     ]
    }
   ],
   "source": [
    "from qiskit_aer.primitives import SamplerV2\n",
    "from qiskit.circuit.library import RealAmplitudes\n",
    "from qiskit.quantum_info import SparsePauliOp\n",
    "\n",
    "circuit = QuantumCircuit(1)\n",
    "circuit.h(0)\n",
    "\n",
    "# initialization of the sampler\n",
    "sampler = SamplerV2()\n",
    "print(f\"sampler: {sampler}\")\n",
    "\n",
    "circuit.measure_all()\n",
    "# simulate(circuit, simulator)\n",
    "\n",
    "# collect 128 shots from the Bell circuit\n",
    "primitive_job = sampler.run([circuit], shots=128)#.result()\n",
    "print(f\"primitive_job: {primitive_job}\")\n",
    "\n",
    "result = primitive_job.result()\n",
    "print(f\"result: {result}\")\n",
    "\n",
    "# print(result.counts())\n"
   ]
  },
  {
   "cell_type": "code",
   "execution_count": 7,
   "metadata": {},
   "outputs": [
    {
     "name": "stdout",
     "output_type": "stream",
     "text": [
      "expectation values : psi1 = [ 1.54388242 -1.07657016], psi2 = 0.1566755596843487\n",
      "<qiskit_aer.primitives.sampler_v2.SamplerV2 object at 0x7f02d1fe6c00>\n",
      "counts for Bell circuit : {'00': 63, '11': 65}\n",
      "counts for parameterized circuit : {'11': 440, '10': 92, '00': 129, '01': 363}\n"
     ]
    }
   ],
   "source": [
    "from qiskit import transpile\n",
    "from qiskit.circuit.library import RealAmplitudes\n",
    "from qiskit.quantum_info import SparsePauliOp\n",
    "from qiskit_aer import AerSimulator\n",
    "\n",
    "sim = AerSimulator()\n",
    "# --------------------------\n",
    "# Simulating using estimator\n",
    "#---------------------------\n",
    "from qiskit_aer.primitives import EstimatorV2\n",
    "\n",
    "psi1 = transpile(RealAmplitudes(num_qubits=2, reps=2), sim, optimization_level=0)\n",
    "psi2 = transpile(RealAmplitudes(num_qubits=2, reps=3), sim, optimization_level=0)\n",
    "\n",
    "H1 = SparsePauliOp.from_list([(\"II\", 1), (\"IZ\", 2), (\"XI\", 3)])\n",
    "H2 = SparsePauliOp.from_list([(\"IZ\", 1)])\n",
    "H3 = SparsePauliOp.from_list([(\"ZI\", 1), (\"ZZ\", 1)])\n",
    "\n",
    "theta1 = [0, 1, 1, 2, 3, 5]\n",
    "theta2 = [0, 1, 1, 2, 3, 5, 8, 13]\n",
    "theta3 = [1, 2, 3, 4, 5, 6]\n",
    "\n",
    "estimator = EstimatorV2()\n",
    "\n",
    "# calculate [ [<psi1(theta1)|H1|psi1(theta1)>,\n",
    "#              <psi1(theta3)|H3|psi1(theta3)>],\n",
    "#             [<psi2(theta2)|H2|psi2(theta2)>] ]\n",
    "job = estimator.run(\n",
    "    [\n",
    "        (psi1, [H1, H3], [theta1, theta3]),\n",
    "        (psi2, H2, theta2)\n",
    "    ],\n",
    "    precision=0.01\n",
    ")\n",
    "result = job.result()\n",
    "print(f\"expectation values : psi1 = {result[0].data.evs}, psi2 = {result[1].data.evs}\")\n",
    "\n",
    "# --------------------------\n",
    "# Simulating using sampler\n",
    "# --------------------------\n",
    "from qiskit_aer.primitives import SamplerV2\n",
    "from qiskit import QuantumCircuit\n",
    "\n",
    "# create a Bell circuit\n",
    "bell = QuantumCircuit(2)\n",
    "bell.h(0)\n",
    "bell.cx(0, 1)\n",
    "bell.measure_all()\n",
    "\n",
    "# create two parameterized circuits\n",
    "pqc = RealAmplitudes(num_qubits=2, reps=2)\n",
    "pqc.measure_all()\n",
    "pqc = transpile(pqc, sim, optimization_level=0)\n",
    "pqc2 = RealAmplitudes(num_qubits=2, reps=3)\n",
    "pqc2.measure_all()\n",
    "pqc2 = transpile(pqc2, sim, optimization_level=0)\n",
    "\n",
    "theta1 = [0, 1, 1, 2, 3, 5]\n",
    "theta2 = [0, 1, 2, 3, 4, 5, 6, 7]\n",
    "\n",
    "# initialization of the sampler\n",
    "sampler = SamplerV2()\n",
    "print(sampler)\n",
    "\n",
    "# collect 128 shots from the Bell circuit\n",
    "job = sampler.run([bell], shots=128)\n",
    "job_result = job.result()\n",
    "print(f\"counts for Bell circuit : {job_result[0].data.meas.get_counts()}\")\n",
    " \n",
    "# run a sampler job on the parameterized circuits\n",
    "job2 = sampler.run([(pqc, theta1), (pqc2, theta2)])\n",
    "job_result = job2.result()\n",
    "print(f\"counts for parameterized circuit : {job_result[0].data.meas.get_counts()}\")\n",
    "\n",
    "# --------------------------------------------------\n",
    "# Simulating with noise model from actual hardware\n",
    "# --------------------------------------------------\n",
    "# from qiskit_ibm_runtime import QiskitRuntimeService\n",
    "# provider = QiskitRuntimeService(channel='ibm_quantum', token=\"set your own token here\")\n",
    "# backend = provider.get_backend(\"ibm_kyoto\")\n",
    "\n",
    "# # create sampler from the actual backend\n",
    "# sampler = SamplerV2.from_backend(backend)\n",
    "\n",
    "# # run a sampler job on the parameterized circuits with noise model of the actual hardware\n",
    "# bell_t = transpile(bell, AerSimulator(basis_gates=[\"ecr\", \"id\", \"rz\", \"sx\"]), optimization_level=0)\n",
    "# job3 = sampler.run([bell_t], shots=128)\n",
    "# job_result = job3.result()\n",
    "# print(f\"counts for Bell circuit w/noise: {job_result[0].data.meas.get_counts()}\")"
   ]
  },
  {
   "cell_type": "code",
   "execution_count": 9,
   "metadata": {},
   "outputs": [
    {
     "name": "stdout",
     "output_type": "stream",
     "text": [
      "revision date: 2025-01-26 with Python 3.12.8 (main, Dec  4 2024, 08:54:12) [GCC 11.4.0]\n",
      "qiskit: 1.3.2\n"
     ]
    }
   ],
   "source": [
    "# pylint: disable=unused-import\n",
    "import sys\n",
    "from datetime import date\n",
    "print(f\"revision date: {date.today()} with Python {sys.version}\")\n",
    "from qiskit import __version__\n",
    "print(f\"qiskit: {__version__}\") "
   ]
  },
  {
   "cell_type": "code",
   "execution_count": 8,
   "metadata": {},
   "outputs": [
    {
     "ename": "ModuleNotFoundError",
     "evalue": "No module named 'qiskit_ibm_provider'",
     "output_type": "error",
     "traceback": [
      "\u001b[0;31m---------------------------------------------------------------------------\u001b[0m",
      "\u001b[0;31mModuleNotFoundError\u001b[0m                       Traceback (most recent call last)",
      "Cell \u001b[0;32mIn[8], line 21\u001b[0m\n\u001b[1;32m     18\u001b[0m state\u001b[38;5;241m.\u001b[39mx(\u001b[38;5;241m1\u001b[39m)\n\u001b[1;32m     20\u001b[0m \u001b[38;5;66;03m# Define provider and simulator backend\u001b[39;00m\n\u001b[0;32m---> 21\u001b[0m \u001b[38;5;28;01mfrom\u001b[39;00m\u001b[38;5;250m \u001b[39m\u001b[38;5;21;01mqiskit_ibm_provider\u001b[39;00m\u001b[38;5;250m \u001b[39m\u001b[38;5;28;01mimport\u001b[39;00m IBMProvider\n\u001b[1;32m     24\u001b[0m provider \u001b[38;5;241m=\u001b[39m IBMProvider()\n\u001b[1;32m     26\u001b[0m backend \u001b[38;5;241m=\u001b[39m provider\u001b[38;5;241m.\u001b[39mget_backend(\u001b[38;5;124m\"\u001b[39m\u001b[38;5;124mibmq_qasm_simulator\u001b[39m\u001b[38;5;124m\"\u001b[39m)\n",
      "\u001b[0;31mModuleNotFoundError\u001b[0m: No module named 'qiskit_ibm_provider'"
     ]
    }
   ],
   "source": [
    "from qiskit import QuantumCircuit\n",
    "from qiskit.quantum_info import SparsePauliOp\n",
    " \n",
    "# Step 1: Define operator\n",
    "op = SparsePauliOp.from_list(\n",
    "    [\n",
    "        (\"II\", -1.052373245772859),\n",
    "        (\"IZ\", 0.39793742484318045),\n",
    "        (\"ZI\", -0.39793742484318045),\n",
    "        (\"ZZ\", -0.01128010425623538),\n",
    "        (\"XX\", 0.18093119978423156),\n",
    "    ]\n",
    ")\n",
    " \n",
    "# Step 2: Define quantum state\n",
    "state = QuantumCircuit(2)\n",
    "state.x(0)\n",
    "state.x(1)\n",
    " \n",
    "# Define provider and simulator backend\n",
    "from qiskit_ibm_provider import IBMProvider\n",
    " \n",
    " \n",
    "provider = IBMProvider()\n",
    " \n",
    "backend = provider.get_backend(\"ibmq_qasm_simulator\")\n",
    " \n",
    "# Define a statevector simulator\n",
    "# from qiskit_aer import AerSimulator\n",
    "# backend = AerSimulator(method=\"statevector\", shots=100)\n",
    " \n",
    "# Define a real backend\n",
    "# backend = provider.get_backend(\"ibm_brisbane\")\n",
    " \n",
    "# Circuits must obey the Instruction Set Architecture (ISA) of a particular backend.\n",
    "from qiskit.transpiler.preset_passmanagers import generate_preset_pass_manager\n",
    " \n",
    "pm = generate_preset_pass_manager(backend=backend, optimization_level=1)\n",
    " \n",
    "from qiskit.opflow import CircuitStateFn, PauliSumOp\n",
    " \n",
    "opflow_op = PauliSumOp(op)\n",
    "opflow_state = CircuitStateFn(isa_state)"
   ]
  }
 ],
 "metadata": {
  "kernelspec": {
   "display_name": ".qiskit-py312-env",
   "language": "python",
   "name": "python3"
  },
  "language_info": {
   "codemirror_mode": {
    "name": "ipython",
    "version": 3
   },
   "file_extension": ".py",
   "mimetype": "text/x-python",
   "name": "python",
   "nbconvert_exporter": "python",
   "pygments_lexer": "ipython3",
   "version": "3.12.8"
  }
 },
 "nbformat": 4,
 "nbformat_minor": 2
}
