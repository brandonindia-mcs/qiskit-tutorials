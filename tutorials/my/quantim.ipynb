{
 "cells": [
  {
   "cell_type": "markdown",
   "metadata": {},
   "source": []
  },
  {
   "cell_type": "code",
   "execution_count": 3,
   "metadata": {},
   "outputs": [],
   "source": [
    "from qiskit import QuantumCircuit, transpile, assemble\n",
    "from qiskit_aer import AerSimulator\n",
    "\n",
    "def simulate(circuit, simulator=AerSimulator()):\n",
    "    #execute the circuit on a simulator\n",
    "    compiled_circuit = transpile(circuit, simulator)\n",
    "    \n",
    "    job = simulator.run(compiled_circuit)\n",
    "    print(f\"job: {job}\")\n",
    "    \n",
    "    result = job.result()\n",
    "    print(f\"result: {result}\")\n",
    "\n",
    "    #get counts of the outcomes\n",
    "    counts = result.get_counts(circuit)\n",
    "    print(f\"counts: {counts}\")\n",
    "\n",
    "simulator = AerSimulator()\n"
   ]
  },
  {
   "cell_type": "code",
   "execution_count": 10,
   "metadata": {},
   "outputs": [
    {
     "name": "stdout",
     "output_type": "stream",
     "text": [
      "job: <qiskit_aer.jobs.aerjob.AerJob object at 0x7efe90358220>\n",
      "result: Result(backend_name='aer_simulator', backend_version='0.15.1', qobj_id='', job_id='8e0fcdc1-d0c5-41e9-aecb-ab24e133a191', success=True, results=[ExperimentResult(shots=1024, success=True, meas_level=2, data=ExperimentResultData(counts={'0x1': 523, '0x0': 501}), header=QobjExperimentHeader(creg_sizes=[['c', 1]], global_phase=0.0, memory_slots=1, n_qubits=1, name='circuit-201', qreg_sizes=[['q', 1]], metadata={}), status=DONE, seed_simulator=533357504, metadata={'time_taken': 0.001502046, 'num_bind_params': 1, 'parallel_state_update': 1, 'parallel_shots': 1, 'required_memory_mb': 0, 'input_qubit_map': [[0, 0]], 'method': 'stabilizer', 'device': 'CPU', 'num_qubits': 1, 'sample_measure_time': 0.00033177, 'active_input_qubits': [0], 'num_clbits': 1, 'remapped_qubits': False, 'runtime_parameter_bind': False, 'max_memory_mb': 7940, 'noise': 'ideal', 'measure_sampling': True, 'batched_shots_optimization': False, 'fusion': {'enabled': False}}, time_taken=0.001502046)], date=2025-01-03T20:07:16.876567, status=COMPLETED, header=None, metadata={'time_taken_parameter_binding': 1.3815e-05, 'time_taken_execute': 0.001535121, 'omp_enabled': True, 'max_gpu_memory_mb': 0, 'max_memory_mb': 7940, 'parallel_experiments': 1}, time_taken=0.0020682811737060547)\n",
      "counts: {'1': 523, '0': 501}\n"
     ]
    }
   ],
   "source": [
    "#create a circuit acting on a quantum register of one qubit\n",
    "circuit = QuantumCircuit(1, 1)\n",
    "\n",
    "#apply Hadamard to qubit 0\n",
    "circuit.h(0)\n",
    "\n",
    "#measure qubit 0\n",
    "circuit.measure(0 ,0)\n",
    "simulate(circuit, simulator)\n"
   ]
  },
  {
   "cell_type": "markdown",
   "metadata": {},
   "source": [
    "### 12 Coin Flip/Unflip\n"
   ]
  },
  {
   "cell_type": "code",
   "execution_count": 5,
   "metadata": {},
   "outputs": [
    {
     "name": "stdout",
     "output_type": "stream",
     "text": [
      "job: <qiskit_aer.jobs.aerjob.AerJob object at 0x7efe95882410>\n",
      "result: Result(backend_name='aer_simulator', backend_version='0.15.1', qobj_id='', job_id='b8dbd09f-f72d-404e-88ae-e4a6d07f2e78', success=True, results=[ExperimentResult(shots=1024, success=True, meas_level=2, data=ExperimentResultData(counts={'0x1': 534, '0x0': 490}), header=QobjExperimentHeader(creg_sizes=[['c', 1]], global_phase=0.0, memory_slots=1, n_qubits=1, name='circuit-166', qreg_sizes=[['q', 1]], metadata={}), status=DONE, seed_simulator=3310815786, metadata={'time_taken': 0.001405044, 'num_bind_params': 1, 'parallel_state_update': 1, 'parallel_shots': 1, 'required_memory_mb': 0, 'input_qubit_map': [[0, 0]], 'method': 'stabilizer', 'device': 'CPU', 'num_qubits': 1, 'sample_measure_time': 0.000285887, 'active_input_qubits': [0], 'num_clbits': 1, 'remapped_qubits': False, 'runtime_parameter_bind': False, 'max_memory_mb': 7940, 'noise': 'ideal', 'measure_sampling': True, 'batched_shots_optimization': False, 'fusion': {'enabled': False}}, time_taken=0.001405044)], date=2025-01-03T20:07:07.769493, status=COMPLETED, header=None, metadata={'time_taken_parameter_binding': 1.7397e-05, 'time_taken_execute': 0.001441701, 'omp_enabled': True, 'max_gpu_memory_mb': 0, 'max_memory_mb': 7940, 'parallel_experiments': 1}, time_taken=0.002242565155029297)\n",
      "counts: {'1': 534, '0': 490}\n",
      "job: <qiskit_aer.jobs.aerjob.AerJob object at 0x7efebcc637f0>\n",
      "result: Result(backend_name='aer_simulator', backend_version='0.15.1', qobj_id='', job_id='20fe78bf-6440-48b7-a108-43fb087223b2', success=True, results=[ExperimentResult(shots=1024, success=True, meas_level=2, data=ExperimentResultData(counts={'0x0': 1024}), header=QobjExperimentHeader(creg_sizes=[['c', 1]], global_phase=0.0, memory_slots=1, n_qubits=1, name='circuit-168', qreg_sizes=[['q', 1]], metadata={}), status=DONE, seed_simulator=394078515, metadata={'time_taken': 0.001414754, 'num_bind_params': 1, 'parallel_state_update': 1, 'parallel_shots': 1, 'required_memory_mb': 0, 'input_qubit_map': [[0, 0]], 'method': 'stabilizer', 'device': 'CPU', 'num_qubits': 1, 'sample_measure_time': 0.000286959, 'active_input_qubits': [0], 'num_clbits': 1, 'remapped_qubits': False, 'runtime_parameter_bind': False, 'max_memory_mb': 7940, 'noise': 'ideal', 'measure_sampling': True, 'batched_shots_optimization': False, 'fusion': {'enabled': False}}, time_taken=0.001414754)], date=2025-01-03T20:07:08.051385, status=COMPLETED, header=None, metadata={'time_taken_parameter_binding': 1.3726e-05, 'time_taken_execute': 0.001446314, 'omp_enabled': True, 'max_gpu_memory_mb': 0, 'max_memory_mb': 7940, 'parallel_experiments': 1}, time_taken=0.002004384994506836)\n",
      "counts: {'0': 1024}\n"
     ]
    }
   ],
   "source": [
    "circuit = QuantumCircuit(1, 1)\n",
    "circuit.h(0)\n",
    "circuit.measure(0 ,0)\n",
    "simulate(circuit, simulator)\n",
    "\n",
    "circuit = QuantumCircuit(1, 1)\n",
    "circuit.h(0)\n",
    "circuit.h(0)\n",
    "circuit.measure(0 ,0)\n",
    "simulate(circuit, simulator)\n"
   ]
  },
  {
   "cell_type": "markdown",
   "metadata": {},
   "source": [
    "### 12 New Coin Flip/Unflip\n"
   ]
  },
  {
   "cell_type": "code",
   "execution_count": 6,
   "metadata": {},
   "outputs": [
    {
     "name": "stdout",
     "output_type": "stream",
     "text": [
      "job: <qiskit_aer.jobs.aerjob.AerJob object at 0x7efe958801c0>\n",
      "result: Result(backend_name='aer_simulator', backend_version='0.15.1', qobj_id='', job_id='183d7cdd-3be6-431e-b06f-4afad20a9e80', success=True, results=[ExperimentResult(shots=1024, success=True, meas_level=2, data=ExperimentResultData(counts={'0x1': 523, '0x0': 501}), header=QobjExperimentHeader(creg_sizes=[['meas', 1]], global_phase=0.0, memory_slots=1, n_qubits=1, name='circuit-170', qreg_sizes=[['q', 1]], metadata={}), status=DONE, seed_simulator=2232923608, metadata={'time_taken': 0.003755314, 'num_bind_params': 1, 'parallel_state_update': 1, 'parallel_shots': 1, 'required_memory_mb': 0, 'input_qubit_map': [[0, 0]], 'method': 'stabilizer', 'device': 'CPU', 'num_qubits': 1, 'sample_measure_time': 0.000265, 'active_input_qubits': [0], 'num_clbits': 1, 'remapped_qubits': False, 'runtime_parameter_bind': False, 'max_memory_mb': 7940, 'noise': 'ideal', 'measure_sampling': True, 'batched_shots_optimization': False, 'fusion': {'enabled': False}}, time_taken=0.003755314)], date=2025-01-03T20:07:08.489143, status=COMPLETED, header=None, metadata={'time_taken_parameter_binding': 1.334e-05, 'time_taken_execute': 0.003788685, 'omp_enabled': True, 'max_gpu_memory_mb': 0, 'max_memory_mb': 7940, 'parallel_experiments': 1}, time_taken=0.004629611968994141)\n",
      "counts: {'1': 523, '0': 501}\n",
      "job: <qiskit_aer.jobs.aerjob.AerJob object at 0x7efe958176d0>\n",
      "result: Result(backend_name='aer_simulator', backend_version='0.15.1', qobj_id='', job_id='37c124ca-4ccd-47ad-b321-176e74ba04cf', success=True, results=[ExperimentResult(shots=1024, success=True, meas_level=2, data=ExperimentResultData(counts={'0x3': 505, '0x0': 519}), header=QobjExperimentHeader(creg_sizes=[['meas', 1], ['meas0', 1]], global_phase=0.0, memory_slots=2, n_qubits=1, name='circuit-170', qreg_sizes=[['q', 1]], metadata={}), status=DONE, seed_simulator=3378816453, metadata={'time_taken': 0.002666024, 'num_bind_params': 1, 'parallel_state_update': 1, 'parallel_shots': 1, 'required_memory_mb': 0, 'input_qubit_map': [[0, 0]], 'method': 'stabilizer', 'device': 'CPU', 'num_qubits': 1, 'sample_measure_time': 0.000263183, 'active_input_qubits': [0], 'num_clbits': 2, 'remapped_qubits': False, 'runtime_parameter_bind': False, 'max_memory_mb': 7940, 'noise': 'ideal', 'measure_sampling': True, 'batched_shots_optimization': False, 'fusion': {'enabled': False}}, time_taken=0.002666024)], date=2025-01-03T20:07:08.867415, status=COMPLETED, header=None, metadata={'time_taken_parameter_binding': 1.4828e-05, 'time_taken_execute': 0.002699768, 'omp_enabled': True, 'max_gpu_memory_mb': 0, 'max_memory_mb': 7940, 'parallel_experiments': 1}, time_taken=0.0032989978790283203)\n",
      "counts: {'1 1': 505, '0 0': 519}\n",
      "job: <qiskit_aer.jobs.aerjob.AerJob object at 0x7efe95889330>\n",
      "result: Result(backend_name='aer_simulator', backend_version='0.15.1', qobj_id='', job_id='4a4dbf51-d78c-4037-9d9b-4308e6c0d793', success=True, results=[ExperimentResult(shots=1024, success=True, meas_level=2, data=ExperimentResultData(counts={'0x0': 504, '0x7': 520}), header=QobjExperimentHeader(creg_sizes=[['meas', 1], ['meas0', 1], ['meas1', 1]], global_phase=0.0, memory_slots=3, n_qubits=1, name='circuit-170', qreg_sizes=[['q', 1]], metadata={}), status=DONE, seed_simulator=2699579599, metadata={'time_taken': 0.005694944, 'num_bind_params': 1, 'parallel_state_update': 1, 'parallel_shots': 1, 'required_memory_mb': 0, 'input_qubit_map': [[0, 0]], 'method': 'stabilizer', 'device': 'CPU', 'num_qubits': 1, 'sample_measure_time': 0.001531844, 'active_input_qubits': [0], 'num_clbits': 3, 'remapped_qubits': False, 'runtime_parameter_bind': False, 'max_memory_mb': 7940, 'noise': 'ideal', 'measure_sampling': True, 'batched_shots_optimization': False, 'fusion': {'enabled': False}}, time_taken=0.005694944)], date=2025-01-03T20:07:09.241170, status=COMPLETED, header=None, metadata={'time_taken_parameter_binding': 1.5437e-05, 'time_taken_execute': 0.005730472, 'omp_enabled': True, 'max_gpu_memory_mb': 0, 'max_memory_mb': 7940, 'parallel_experiments': 1}, time_taken=0.006415367126464844)\n",
      "counts: {'0 0 0': 504, '1 1 1': 520}\n"
     ]
    }
   ],
   "source": [
    "circuit = QuantumCircuit(1)\n",
    "circuit.h(0)\n",
    "circuit.measure_all()\n",
    "simulate(circuit, simulator)\n",
    "circuit.measure_all()\n",
    "simulate(circuit, simulator)\n",
    "circuit.measure_all()\n",
    "simulate(circuit, simulator)\n"
   ]
  },
  {
   "cell_type": "code",
   "execution_count": 7,
   "metadata": {},
   "outputs": [
    {
     "name": "stdout",
     "output_type": "stream",
     "text": [
      "sampler: <qiskit_aer.primitives.sampler_v2.SamplerV2 object at 0x7efe95889cf0>\n",
      "primitive_job: <qiskit.primitives.primitive_job.PrimitiveJob object at 0x7efe9588a380>\n",
      "result: PrimitiveResult([SamplerPubResult(data=DataBin(meas=BitArray(<shape=(), num_shots=128, num_bits=1>)), metadata={'shots': 128, 'circuit_metadata': {}, 'simulator_metadata': {'time_taken_parameter_binding': 1.5706e-05, 'time_taken_execute': 0.001931662, 'omp_enabled': True, 'max_gpu_memory_mb': 0, 'max_memory_mb': 7940, 'parallel_experiments': 1}})], metadata={'version': 2})\n"
     ]
    }
   ],
   "source": [
    "from qiskit_aer.primitives import SamplerV2\n",
    "from qiskit.circuit.library import RealAmplitudes\n",
    "from qiskit.quantum_info import SparsePauliOp\n",
    "\n",
    "circuit = QuantumCircuit(1)\n",
    "circuit.h(0)\n",
    "\n",
    "# initialization of the sampler\n",
    "sampler = SamplerV2()\n",
    "print(f\"sampler: {sampler}\")\n",
    "\n",
    "circuit.measure_all()\n",
    "# simulate(circuit, simulator)\n",
    "\n",
    "# collect 128 shots from the Bell circuit\n",
    "primitive_job = sampler.run([circuit], shots=128)#.result()\n",
    "print(f\"primitive_job: {primitive_job}\")\n",
    "\n",
    "result = primitive_job.result()\n",
    "print(f\"result: {result}\")\n",
    "\n",
    "# print(result.counts())\n"
   ]
  },
  {
   "cell_type": "code",
   "execution_count": 8,
   "metadata": {},
   "outputs": [
    {
     "name": "stdout",
     "output_type": "stream",
     "text": [
      "expectation values : psi1 = [ 1.54834235 -1.07540373], psi2 = 0.17902020601990487\n",
      "<qiskit_aer.primitives.sampler_v2.SamplerV2 object at 0x7efe95862b90>\n",
      "counts for Bell circuit : {'11': 78, '00': 50}\n",
      "counts for parameterized circuit : {'01': 366, '11': 408, '10': 112, '00': 138}\n"
     ]
    }
   ],
   "source": [
    "from qiskit import transpile\n",
    "from qiskit.circuit.library import RealAmplitudes\n",
    "from qiskit.quantum_info import SparsePauliOp\n",
    "from qiskit_aer import AerSimulator\n",
    "\n",
    "sim = AerSimulator()\n",
    "# --------------------------\n",
    "# Simulating using estimator\n",
    "#---------------------------\n",
    "from qiskit_aer.primitives import EstimatorV2\n",
    "\n",
    "psi1 = transpile(RealAmplitudes(num_qubits=2, reps=2), sim, optimization_level=0)\n",
    "psi2 = transpile(RealAmplitudes(num_qubits=2, reps=3), sim, optimization_level=0)\n",
    "\n",
    "H1 = SparsePauliOp.from_list([(\"II\", 1), (\"IZ\", 2), (\"XI\", 3)])\n",
    "H2 = SparsePauliOp.from_list([(\"IZ\", 1)])\n",
    "H3 = SparsePauliOp.from_list([(\"ZI\", 1), (\"ZZ\", 1)])\n",
    "\n",
    "theta1 = [0, 1, 1, 2, 3, 5]\n",
    "theta2 = [0, 1, 1, 2, 3, 5, 8, 13]\n",
    "theta3 = [1, 2, 3, 4, 5, 6]\n",
    "\n",
    "estimator = EstimatorV2()\n",
    "\n",
    "# calculate [ [<psi1(theta1)|H1|psi1(theta1)>,\n",
    "#              <psi1(theta3)|H3|psi1(theta3)>],\n",
    "#             [<psi2(theta2)|H2|psi2(theta2)>] ]\n",
    "job = estimator.run(\n",
    "    [\n",
    "        (psi1, [H1, H3], [theta1, theta3]),\n",
    "        (psi2, H2, theta2)\n",
    "    ],\n",
    "    precision=0.01\n",
    ")\n",
    "result = job.result()\n",
    "print(f\"expectation values : psi1 = {result[0].data.evs}, psi2 = {result[1].data.evs}\")\n",
    "\n",
    "# --------------------------\n",
    "# Simulating using sampler\n",
    "# --------------------------\n",
    "from qiskit_aer.primitives import SamplerV2\n",
    "from qiskit import QuantumCircuit\n",
    "\n",
    "# create a Bell circuit\n",
    "bell = QuantumCircuit(2)\n",
    "bell.h(0)\n",
    "bell.cx(0, 1)\n",
    "bell.measure_all()\n",
    "\n",
    "# create two parameterized circuits\n",
    "pqc = RealAmplitudes(num_qubits=2, reps=2)\n",
    "pqc.measure_all()\n",
    "pqc = transpile(pqc, sim, optimization_level=0)\n",
    "pqc2 = RealAmplitudes(num_qubits=2, reps=3)\n",
    "pqc2.measure_all()\n",
    "pqc2 = transpile(pqc2, sim, optimization_level=0)\n",
    "\n",
    "theta1 = [0, 1, 1, 2, 3, 5]\n",
    "theta2 = [0, 1, 2, 3, 4, 5, 6, 7]\n",
    "\n",
    "# initialization of the sampler\n",
    "sampler = SamplerV2()\n",
    "print(sampler)\n",
    "\n",
    "# collect 128 shots from the Bell circuit\n",
    "job = sampler.run([bell], shots=128)\n",
    "job_result = job.result()\n",
    "print(f\"counts for Bell circuit : {job_result[0].data.meas.get_counts()}\")\n",
    " \n",
    "# run a sampler job on the parameterized circuits\n",
    "job2 = sampler.run([(pqc, theta1), (pqc2, theta2)])\n",
    "job_result = job2.result()\n",
    "print(f\"counts for parameterized circuit : {job_result[0].data.meas.get_counts()}\")\n",
    "\n",
    "# --------------------------------------------------\n",
    "# Simulating with noise model from actual hardware\n",
    "# --------------------------------------------------\n",
    "# from qiskit_ibm_runtime import QiskitRuntimeService\n",
    "# provider = QiskitRuntimeService(channel='ibm_quantum', token=\"set your own token here\")\n",
    "# backend = provider.get_backend(\"ibm_kyoto\")\n",
    "\n",
    "# # create sampler from the actual backend\n",
    "# sampler = SamplerV2.from_backend(backend)\n",
    "\n",
    "# # run a sampler job on the parameterized circuits with noise model of the actual hardware\n",
    "# bell_t = transpile(bell, AerSimulator(basis_gates=[\"ecr\", \"id\", \"rz\", \"sx\"]), optimization_level=0)\n",
    "# job3 = sampler.run([bell_t], shots=128)\n",
    "# job_result = job3.result()\n",
    "# print(f\"counts for Bell circuit w/noise: {job_result[0].data.meas.get_counts()}\")"
   ]
  },
  {
   "cell_type": "code",
   "execution_count": 9,
   "metadata": {},
   "outputs": [
    {
     "ename": "AccountNotFoundError",
     "evalue": "'No default ibm_quantum account saved.'",
     "output_type": "error",
     "traceback": [
      "\u001b[0;31m---------------------------------------------------------------------------\u001b[0m",
      "\u001b[0;31mAccountNotFoundError\u001b[0m                      Traceback (most recent call last)",
      "Cell \u001b[0;32mIn[9], line 24\u001b[0m\n\u001b[1;32m     20\u001b[0m \u001b[38;5;66;03m# Define provider and simulator backend\u001b[39;00m\n\u001b[1;32m     21\u001b[0m \u001b[38;5;28;01mfrom\u001b[39;00m \u001b[38;5;21;01mqiskit_ibm_provider\u001b[39;00m \u001b[38;5;28;01mimport\u001b[39;00m IBMProvider\n\u001b[0;32m---> 24\u001b[0m provider \u001b[38;5;241m=\u001b[39m \u001b[43mIBMProvider\u001b[49m\u001b[43m(\u001b[49m\u001b[43m)\u001b[49m\n\u001b[1;32m     26\u001b[0m backend \u001b[38;5;241m=\u001b[39m provider\u001b[38;5;241m.\u001b[39mget_backend(\u001b[38;5;124m\"\u001b[39m\u001b[38;5;124mibmq_qasm_simulator\u001b[39m\u001b[38;5;124m\"\u001b[39m)\n\u001b[1;32m     28\u001b[0m \u001b[38;5;66;03m# Define a statevector simulator\u001b[39;00m\n\u001b[1;32m     29\u001b[0m \u001b[38;5;66;03m# from qiskit_aer import AerSimulator\u001b[39;00m\n\u001b[1;32m     30\u001b[0m \u001b[38;5;66;03m# backend = AerSimulator(method=\"statevector\", shots=100)\u001b[39;00m\n\u001b[0;32m   (...)\u001b[0m\n\u001b[1;32m     34\u001b[0m  \n\u001b[1;32m     35\u001b[0m \u001b[38;5;66;03m# Circuits must obey the Instruction Set Architecture (ISA) of a particular backend.\u001b[39;00m\n",
      "File \u001b[0;32m~/.local/lib/python3.10/site-packages/qiskit_ibm_provider/ibm_provider.py:162\u001b[0m, in \u001b[0;36mIBMProvider.__init__\u001b[0;34m(self, token, url, name, instance, proxies, verify)\u001b[0m\n\u001b[1;32m    139\u001b[0m \u001b[38;5;250m\u001b[39m\u001b[38;5;124;03m\"\"\"IBMProvider constructor\u001b[39;00m\n\u001b[1;32m    140\u001b[0m \n\u001b[1;32m    141\u001b[0m \u001b[38;5;124;03mArgs:\u001b[39;00m\n\u001b[0;32m   (...)\u001b[0m\n\u001b[1;32m    159\u001b[0m \n\u001b[1;32m    160\u001b[0m \u001b[38;5;124;03m\"\"\"\u001b[39;00m\n\u001b[1;32m    161\u001b[0m \u001b[38;5;28msuper\u001b[39m()\u001b[38;5;241m.\u001b[39m\u001b[38;5;21m__init__\u001b[39m()\n\u001b[0;32m--> 162\u001b[0m \u001b[38;5;28mself\u001b[39m\u001b[38;5;241m.\u001b[39m_account \u001b[38;5;241m=\u001b[39m \u001b[38;5;28;43mself\u001b[39;49m\u001b[38;5;241;43m.\u001b[39;49m\u001b[43m_discover_account\u001b[49m\u001b[43m(\u001b[49m\n\u001b[1;32m    163\u001b[0m \u001b[43m    \u001b[49m\u001b[43mtoken\u001b[49m\u001b[38;5;241;43m=\u001b[39;49m\u001b[43mtoken\u001b[49m\u001b[43m,\u001b[49m\n\u001b[1;32m    164\u001b[0m \u001b[43m    \u001b[49m\u001b[43murl\u001b[49m\u001b[38;5;241;43m=\u001b[39;49m\u001b[43murl\u001b[49m\u001b[43m,\u001b[49m\n\u001b[1;32m    165\u001b[0m \u001b[43m    \u001b[49m\u001b[43minstance\u001b[49m\u001b[38;5;241;43m=\u001b[39;49m\u001b[43minstance\u001b[49m\u001b[43m,\u001b[49m\n\u001b[1;32m    166\u001b[0m \u001b[43m    \u001b[49m\u001b[43mname\u001b[49m\u001b[38;5;241;43m=\u001b[39;49m\u001b[43mname\u001b[49m\u001b[43m,\u001b[49m\n\u001b[1;32m    167\u001b[0m \u001b[43m    \u001b[49m\u001b[43mproxies\u001b[49m\u001b[38;5;241;43m=\u001b[39;49m\u001b[43mProxyConfiguration\u001b[49m\u001b[43m(\u001b[49m\u001b[38;5;241;43m*\u001b[39;49m\u001b[38;5;241;43m*\u001b[39;49m\u001b[43mproxies\u001b[49m\u001b[43m)\u001b[49m\u001b[43m \u001b[49m\u001b[38;5;28;43;01mif\u001b[39;49;00m\u001b[43m \u001b[49m\u001b[43mproxies\u001b[49m\u001b[43m \u001b[49m\u001b[38;5;28;43;01melse\u001b[39;49;00m\u001b[43m \u001b[49m\u001b[38;5;28;43;01mNone\u001b[39;49;00m\u001b[43m,\u001b[49m\n\u001b[1;32m    168\u001b[0m \u001b[43m    \u001b[49m\u001b[43mverify\u001b[49m\u001b[38;5;241;43m=\u001b[39;49m\u001b[43mverify\u001b[49m\u001b[43m,\u001b[49m\n\u001b[1;32m    169\u001b[0m \u001b[43m\u001b[49m\u001b[43m)\u001b[49m\n\u001b[1;32m    171\u001b[0m \u001b[38;5;28mself\u001b[39m\u001b[38;5;241m.\u001b[39m_client_params \u001b[38;5;241m=\u001b[39m ClientParameters(\n\u001b[1;32m    172\u001b[0m     token\u001b[38;5;241m=\u001b[39m\u001b[38;5;28mself\u001b[39m\u001b[38;5;241m.\u001b[39m_account\u001b[38;5;241m.\u001b[39mtoken,\n\u001b[1;32m    173\u001b[0m     url\u001b[38;5;241m=\u001b[39m\u001b[38;5;28mself\u001b[39m\u001b[38;5;241m.\u001b[39m_account\u001b[38;5;241m.\u001b[39murl,\n\u001b[0;32m   (...)\u001b[0m\n\u001b[1;32m    176\u001b[0m     verify\u001b[38;5;241m=\u001b[39m\u001b[38;5;28mself\u001b[39m\u001b[38;5;241m.\u001b[39m_account\u001b[38;5;241m.\u001b[39mverify,\n\u001b[1;32m    177\u001b[0m )\n\u001b[1;32m    178\u001b[0m \u001b[38;5;28mself\u001b[39m\u001b[38;5;241m.\u001b[39m_auth_client \u001b[38;5;241m=\u001b[39m \u001b[38;5;28mself\u001b[39m\u001b[38;5;241m.\u001b[39m_authenticate_ibm_quantum_account(\u001b[38;5;28mself\u001b[39m\u001b[38;5;241m.\u001b[39m_client_params)\n",
      "File \u001b[0;32m~/.local/lib/python3.10/site-packages/qiskit_ibm_provider/ibm_provider.py:221\u001b[0m, in \u001b[0;36mIBMProvider._discover_account\u001b[0;34m(token, url, instance, name, proxies, verify)\u001b[0m\n\u001b[1;32m    217\u001b[0m         \u001b[38;5;28;01mif\u001b[39;00m url:\n\u001b[1;32m    218\u001b[0m             logger\u001b[38;5;241m.\u001b[39mwarning(\n\u001b[1;32m    219\u001b[0m                 \u001b[38;5;124m\"\u001b[39m\u001b[38;5;124mLoading default ibm_quantum account. Input \u001b[39m\u001b[38;5;124m'\u001b[39m\u001b[38;5;124murl\u001b[39m\u001b[38;5;124m'\u001b[39m\u001b[38;5;124m is ignored.\u001b[39m\u001b[38;5;124m\"\u001b[39m\n\u001b[1;32m    220\u001b[0m             )\n\u001b[0;32m--> 221\u001b[0m         account \u001b[38;5;241m=\u001b[39m \u001b[43mAccountManager\u001b[49m\u001b[38;5;241;43m.\u001b[39;49m\u001b[43mget\u001b[49m\u001b[43m(\u001b[49m\u001b[43mchannel\u001b[49m\u001b[38;5;241;43m=\u001b[39;49m\u001b[38;5;124;43m\"\u001b[39;49m\u001b[38;5;124;43mibm_quantum\u001b[39;49m\u001b[38;5;124;43m\"\u001b[39;49m\u001b[43m)\u001b[49m\n\u001b[1;32m    223\u001b[0m \u001b[38;5;28;01mif\u001b[39;00m account \u001b[38;5;129;01mis\u001b[39;00m \u001b[38;5;28;01mNone\u001b[39;00m:\n\u001b[1;32m    224\u001b[0m     account \u001b[38;5;241m=\u001b[39m AccountManager\u001b[38;5;241m.\u001b[39mget()\n",
      "File \u001b[0;32m~/.local/lib/python3.10/site-packages/qiskit_ibm_provider/accounts/management.py:151\u001b[0m, in \u001b[0;36mAccountManager.get\u001b[0;34m(cls, name, channel)\u001b[0m\n\u001b[1;32m    146\u001b[0m     saved_account \u001b[38;5;241m=\u001b[39m read_config(\n\u001b[1;32m    147\u001b[0m         filename\u001b[38;5;241m=\u001b[39m\u001b[38;5;28mcls\u001b[39m\u001b[38;5;241m.\u001b[39m_default_account_config_json_file,\n\u001b[1;32m    148\u001b[0m         name\u001b[38;5;241m=\u001b[39m\u001b[38;5;28mcls\u001b[39m\u001b[38;5;241m.\u001b[39m_default_account_name_ibm_quantum,\n\u001b[1;32m    149\u001b[0m     )\n\u001b[1;32m    150\u001b[0m     \u001b[38;5;28;01mif\u001b[39;00m saved_account \u001b[38;5;129;01mis\u001b[39;00m \u001b[38;5;28;01mNone\u001b[39;00m:\n\u001b[0;32m--> 151\u001b[0m         \u001b[38;5;28;01mraise\u001b[39;00m AccountNotFoundError(\u001b[38;5;124mf\u001b[39m\u001b[38;5;124m\"\u001b[39m\u001b[38;5;124mNo default \u001b[39m\u001b[38;5;132;01m{\u001b[39;00mchannel\u001b[38;5;132;01m}\u001b[39;00m\u001b[38;5;124m account saved.\u001b[39m\u001b[38;5;124m\"\u001b[39m)\n\u001b[1;32m    152\u001b[0m     \u001b[38;5;28;01mreturn\u001b[39;00m Account\u001b[38;5;241m.\u001b[39mfrom_saved_format(saved_account)\n\u001b[1;32m    154\u001b[0m all_config \u001b[38;5;241m=\u001b[39m read_config(filename\u001b[38;5;241m=\u001b[39m\u001b[38;5;28mcls\u001b[39m\u001b[38;5;241m.\u001b[39m_default_account_config_json_file)\n",
      "\u001b[0;31mAccountNotFoundError\u001b[0m: 'No default ibm_quantum account saved.'"
     ]
    }
   ],
   "source": [
    "from qiskit import QuantumCircuit\n",
    "from qiskit.quantum_info import SparsePauliOp\n",
    " \n",
    "# Step 1: Define operator\n",
    "op = SparsePauliOp.from_list(\n",
    "    [\n",
    "        (\"II\", -1.052373245772859),\n",
    "        (\"IZ\", 0.39793742484318045),\n",
    "        (\"ZI\", -0.39793742484318045),\n",
    "        (\"ZZ\", -0.01128010425623538),\n",
    "        (\"XX\", 0.18093119978423156),\n",
    "    ]\n",
    ")\n",
    " \n",
    "# Step 2: Define quantum state\n",
    "state = QuantumCircuit(2)\n",
    "state.x(0)\n",
    "state.x(1)\n",
    " \n",
    "# Define provider and simulator backend\n",
    "from qiskit_ibm_provider import IBMProvider\n",
    " \n",
    " \n",
    "provider = IBMProvider()\n",
    " \n",
    "backend = provider.get_backend(\"ibmq_qasm_simulator\")\n",
    " \n",
    "# Define a statevector simulator\n",
    "# from qiskit_aer import AerSimulator\n",
    "# backend = AerSimulator(method=\"statevector\", shots=100)\n",
    " \n",
    "# Define a real backend\n",
    "# backend = provider.get_backend(\"ibm_brisbane\")\n",
    " \n",
    "# Circuits must obey the Instruction Set Architecture (ISA) of a particular backend.\n",
    "from qiskit.transpiler.preset_passmanagers import generate_preset_pass_manager\n",
    " \n",
    "pm = generate_preset_pass_manager(backend=backend, optimization_level=1)\n",
    " \n",
    "from qiskit.opflow import CircuitStateFn, PauliSumOp\n",
    " \n",
    "opflow_op = PauliSumOp(op)\n",
    "opflow_state = CircuitStateFn(isa_state)"
   ]
  }
 ],
 "metadata": {
  "kernelspec": {
   "display_name": "Python 3 (ipykernel)",
   "language": "python",
   "name": "python3"
  },
  "language_info": {
   "codemirror_mode": {
    "name": "ipython",
    "version": 3
   },
   "file_extension": ".py",
   "mimetype": "text/x-python",
   "name": "python",
   "nbconvert_exporter": "python",
   "pygments_lexer": "ipython3",
   "version": "3.10.12"
  }
 },
 "nbformat": 4,
 "nbformat_minor": 2
}
