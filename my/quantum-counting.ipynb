{
 "cells": [
  {
   "cell_type": "markdown",
   "metadata": {
    "tags": [
     "remove_cell"
    ]
   },
   "source": [
    "# Quantum Counting"
   ]
  },
  {
   "cell_type": "markdown",
   "metadata": {},
   "source": [
    "To understand this algorithm, it is important that you first understand both Grover’s algorithm and the quantum phase estimation algorithm. Whereas Grover’s algorithm attempts to find a solution to the Oracle, the quantum counting algorithm tells us how many of these solutions there are. This algorithm is interesting as it combines both quantum search and quantum phase estimation."
   ]
  },
  {
   "attachments": {},
   "cell_type": "markdown",
   "metadata": {},
   "source": [
    "## 1. Overview <a id='overview'></a>\n",
    "\n",
    "### 1.1 Intuition <a id='intuition'></a>\n",
    "\n",
    "In quantum counting, we simply use the quantum phase estimation algorithm to find an eigenvalue of a Grover search iteration. You will remember that an iteration of Grover’s algorithm, $G$, rotates the state vector by $\\theta$ in the $|\\omega\\rangle$, $|s’\\rangle$ basis:\n",
    "![image1](images/quantum_counting1.svg)\n",
    "\n",
    "\n",
    "The percentage number of solutions in our search space affects the difference between $|s\\rangle$ and $|s’\\rangle$. For example, if there are not many solutions, $|s\\rangle$ will be very close to $|s’\\rangle$ and $\\theta$ will be very small. It turns out that the eigenvalues of the Grover iterator are $e^{\\pm i\\theta}$, and we can extract this using quantum phase estimation (QPE) to estimate the number of solutions ($M$).\n",
    "\n",
    "### 1.2 A Closer Look <a id='closer_look'></a>\n",
    "\n",
    "In the $|\\omega\\rangle$, $|s’\\rangle$ basis we can write the Grover iterator as the matrix:\n",
    "\n",
    "$$\n",
    "G =\n",
    "\\begin{pmatrix}\n",
    "\\cos{\\theta} && -\\sin{\\theta}\\\\\n",
    "\\sin{\\theta} && \\cos{\\theta}\n",
    "\\end{pmatrix}\n",
    "$$\n",
    "\n",
    "The matrix $G$ has eigenvectors:\n",
    "\n",
    "$$\n",
    "\\begin{pmatrix}\n",
    "-i\\\\\n",
    "1\n",
    "\\end{pmatrix}\n",
    ",\n",
    "\\begin{pmatrix}\n",
    "i\\\\\n",
    "1\n",
    "\\end{pmatrix}\n",
    "$$\n",
    "\n",
    "With the aforementioned eigenvalues $e^{\\pm i\\theta}$. Fortunately, we do not need to prepare our register in either of these states, the state $|s\\rangle$ is in the space spanned by $|\\omega\\rangle$, $|s’\\rangle$, and thus is a superposition of the two vectors.\n",
    "$$\n",
    "|s\\rangle = \\alpha |\\omega\\rangle + \\beta|s'\\rangle\n",
    "$$\n",
    "\n",
    "As a result, the output of the QPE algorithm will be a superposition of the two phases, and when we measure the register we will obtain one of these two values! We can then use some simple maths to get our estimate of $M$.\n",
    "\n",
    "![image2](images/quantum_counting2.svg)\n"
   ]
  },
  {
   "cell_type": "markdown",
   "metadata": {},
   "source": [
    "## 2. The Code <a id='code'></a>\n",
    "\n",
    "### 2.1 Initialising our Code <a id='init_code'></a>\n",
    "\n",
    "First, let’s import everything we’re going to need:"
   ]
  },
  {
   "cell_type": "code",
   "execution_count": 20,
   "metadata": {
    "tags": [
     "thebelab-init"
    ]
   },
   "outputs": [],
   "source": [
    "import matplotlib.pyplot as plt\n",
    "import numpy as np\n",
    "import math\n",
    "\n",
    "# importing Qiskit\n",
    "import qiskit\n",
    "from qiskit import QuantumCircuit, transpile\n",
    "from qiskit_aer import AerSimulator\n",
    "\n",
    "# import basic plot tools\n",
    "from qiskit.visualization import plot_histogram"
   ]
  },
  {
   "cell_type": "markdown",
   "metadata": {},
   "source": [
    "In this guide will choose to ‘count’ on the first 4 qubits on our circuit (we call the number of counting qubits $t$, so $t = 4$), and to 'search' through the last 4 qubits ($n = 4$). With this in mind, we can start creating the building blocks of our circuit.\n",
    "\n",
    "### 2.2 The Controlled-Grover Iteration <a id='cont_grover'></a>\n",
    "\n",
    "We have already covered Grover iterations in the Grover’s algorithm section. Here we'll use the circuit library to quickly create a circuit that does one iteration of Grover's algorithm. The oracle we'll use has 5 solutions ($M = 5$) of 16 states ($N = 2^n = 16$)."
   ]
  },
  {
   "cell_type": "code",
   "execution_count": 21,
   "metadata": {
    "tags": [
     "thebelab-init"
    ]
   },
   "outputs": [],
   "source": [
    "def grover_operator(n_iterations):\n",
    "    \"\"\"Grover iteration circuit for oracle with 5/16 solutions\n",
    "        Args:\n",
    "            n_iterations (int): number of times to repeat the circuit\n",
    "        Returns:\n",
    "            Gate that implements n_iterations of the Grover operator\n",
    "    \"\"\"\n",
    "    from qiskit.circuit.library import Diagonal, GroverOperator\n",
    "    oracle = Diagonal([1,1,-1,1,1,1,1,-1,1,1,-1,-1,1,1,-1,1])\n",
    "    grover_it = GroverOperator(oracle).repeat(n_iterations).to_gate()\n",
    "    grover_it.label = f\"Grover$^{n_iterations}$\"\n",
    "    return grover_it"
   ]
  },
  {
   "cell_type": "markdown",
   "metadata": {},
   "source": [
    "Notice the python function takes no input and returns a `Gate` object with 4 qubits. Later in this page, we'll use the `.control()` method to create a controlled gate from a `Gate`."
   ]
  },
  {
   "cell_type": "markdown",
   "metadata": {},
   "source": [
    "### 2.3 The Inverse QFT <a id='inv_qft'></a>\n",
    "We now need to create an inverse QFT. We'll import this from the circuit library, and create the gate with t = 4 qubits as this is the number of counting qubits we chose for our example:"
   ]
  },
  {
   "cell_type": "markdown",
   "metadata": {},
   "source": [
    "Again, note we have chosen to return another `QuantumCircuit` object, this is so we can easily invert the gate. We create the gate with t = 4 qubits as this is the number of counting qubits we have chosen in this guide:"
   ]
  },
  {
   "cell_type": "code",
   "execution_count": 22,
   "metadata": {
    "scrolled": true,
    "tags": [
     "thebelab-init"
    ]
   },
   "outputs": [],
   "source": [
    "from qiskit.circuit.library import QFT\n",
    "qft_dagger = QFT(4, inverse=True).to_gate()\n",
    "qft_dagger.label = \"QFT†\""
   ]
  },
  {
   "cell_type": "markdown",
   "metadata": {},
   "source": [
    "### 2.4 Putting it Together <a id='putting_together'></a>\n",
    "\n",
    "We now have everything we need to complete our circuit! Let’s put it together.\n",
    "\n",
    "First we need to put all qubits in the $|+\\rangle$ state:"
   ]
  },
  {
   "cell_type": "code",
   "execution_count": 23,
   "metadata": {},
   "outputs": [
    {
     "data": {
      "text/html": [
       "<pre style=\"word-wrap: normal;white-space: pre;background: #fff0;line-height: 1.1;font-family: &quot;Courier New&quot;,Courier,monospace\">     ┌───┐                                                            ┌───────┐┌─┐         \n",
       "q_0: ┤ H ├───────■────────────────────────────────────────────────────┤0      ├┤M├─────────\n",
       "     ├───┤       │                                                    │       │└╥┘┌─┐      \n",
       "q_1: ┤ H ├───────┼──────────────■─────────────────────────────────────┤1      ├─╫─┤M├──────\n",
       "     ├───┤       │              │                                     │  QFT† │ ║ └╥┘┌─┐   \n",
       "q_2: ┤ H ├───────┼──────────────┼──────────────■──────────────────────┤2      ├─╫──╫─┤M├───\n",
       "     ├───┤       │              │              │                      │       │ ║  ║ └╥┘┌─┐\n",
       "q_3: ┤ H ├───────┼──────────────┼──────────────┼──────────────■───────┤3      ├─╫──╫──╫─┤M├\n",
       "     ├───┤┌──────┴──────┐┌──────┴──────┐┌──────┴──────┐┌──────┴──────┐└───────┘ ║  ║  ║ └╥┘\n",
       "q_4: ┤ H ├┤0            ├┤0            ├┤0            ├┤0            ├──────────╫──╫──╫──╫─\n",
       "     ├───┤│             ││             ││             ││             │          ║  ║  ║  ║ \n",
       "q_5: ┤ H ├┤1            ├┤1            ├┤1            ├┤1            ├──────────╫──╫──╫──╫─\n",
       "     ├───┤│  Grover$^1$ ││  Grover$^2$ ││  Grover$^4$ ││  Grover$^8$ │          ║  ║  ║  ║ \n",
       "q_6: ┤ H ├┤2            ├┤2            ├┤2            ├┤2            ├──────────╫──╫──╫──╫─\n",
       "     ├───┤│             ││             ││             ││             │          ║  ║  ║  ║ \n",
       "q_7: ┤ H ├┤3            ├┤3            ├┤3            ├┤3            ├──────────╫──╫──╫──╫─\n",
       "     └───┘└─────────────┘└─────────────┘└─────────────┘└─────────────┘          ║  ║  ║  ║ \n",
       "c: 4/═══════════════════════════════════════════════════════════════════════════╩══╩══╩══╩═\n",
       "                                                                                0  1  2  3 </pre>"
      ],
      "text/plain": [
       "     ┌───┐                                                            ┌───────┐┌─┐         \n",
       "q_0: ┤ H ├───────■────────────────────────────────────────────────────┤0      ├┤M├─────────\n",
       "     ├───┤       │                                                    │       │└╥┘┌─┐      \n",
       "q_1: ┤ H ├───────┼──────────────■─────────────────────────────────────┤1      ├─╫─┤M├──────\n",
       "     ├───┤       │              │                                     │  QFT† │ ║ └╥┘┌─┐   \n",
       "q_2: ┤ H ├───────┼──────────────┼──────────────■──────────────────────┤2      ├─╫──╫─┤M├───\n",
       "     ├───┤       │              │              │                      │       │ ║  ║ └╥┘┌─┐\n",
       "q_3: ┤ H ├───────┼──────────────┼──────────────┼──────────────■───────┤3      ├─╫──╫──╫─┤M├\n",
       "     ├───┤┌──────┴──────┐┌──────┴──────┐┌──────┴──────┐┌──────┴──────┐└───────┘ ║  ║  ║ └╥┘\n",
       "q_4: ┤ H ├┤0            ├┤0            ├┤0            ├┤0            ├──────────╫──╫──╫──╫─\n",
       "     ├───┤│             ││             ││             ││             │          ║  ║  ║  ║ \n",
       "q_5: ┤ H ├┤1            ├┤1            ├┤1            ├┤1            ├──────────╫──╫──╫──╫─\n",
       "     ├───┤│  Grover$^1$ ││  Grover$^2$ ││  Grover$^4$ ││  Grover$^8$ │          ║  ║  ║  ║ \n",
       "q_6: ┤ H ├┤2            ├┤2            ├┤2            ├┤2            ├──────────╫──╫──╫──╫─\n",
       "     ├───┤│             ││             ││             ││             │          ║  ║  ║  ║ \n",
       "q_7: ┤ H ├┤3            ├┤3            ├┤3            ├┤3            ├──────────╫──╫──╫──╫─\n",
       "     └───┘└─────────────┘└─────────────┘└─────────────┘└─────────────┘          ║  ║  ║  ║ \n",
       "c: 4/═══════════════════════════════════════════════════════════════════════════╩══╩══╩══╩═\n",
       "                                                                                0  1  2  3 "
      ]
     },
     "execution_count": 23,
     "metadata": {},
     "output_type": "execute_result"
    }
   ],
   "source": [
    "# Create QuantumCircuit\n",
    "t = 4   # no. of counting qubits\n",
    "n = 4   # no. of searching qubits\n",
    "qc = QuantumCircuit(n+t, t) # Circuit with n+t qubits and t classical bits\n",
    "\n",
    "# Initialize all qubits to |+>\n",
    "for qubit in range(t+n):\n",
    "    qc.h(qubit)\n",
    "\n",
    "# Begin controlled Grover iterations\n",
    "n_iterations = 1\n",
    "for qubit in range(t):\n",
    "    cgrit = grover_operator(n_iterations).control()\n",
    "    qc.append(cgrit, [qubit] + list(range(t, n+t)))\n",
    "    n_iterations *= 2\n",
    "    \n",
    "# Do inverse QFT on counting qubits\n",
    "qc.append(qft_dagger, range(t))\n",
    "\n",
    "# Measure counting qubits\n",
    "qc.measure(range(t), range(t))\n",
    "\n",
    "# Display the circuit\n",
    "qc.draw(fold=-1)"
   ]
  },
  {
   "cell_type": "markdown",
   "metadata": {},
   "source": [
    "Great! Now let’s see some results.\n",
    "\n",
    "## 3. Simulating <a id='simulating'></a>"
   ]
  },
  {
   "cell_type": "code",
   "execution_count": 24,
   "metadata": {},
   "outputs": [
    {
     "data": {
      "image/png": "[encoded data removed]",
      "text/plain": [
       "<Figure size 640x480 with 1 Axes>"
      ]
     },
     "execution_count": 24,
     "metadata": {},
     "output_type": "execute_result"
    }
   ],
   "source": [
    "# Execute and see results\n",
    "# sim = Aer.get_backend('aer_simulator')\n",
    "sim = AerSimulator()\n",
    "transpiled_qc = transpile(qc, sim)\n",
    "job = sim.run(transpiled_qc)\n",
    "hist = job.result().get_counts()\n",
    "plot_histogram(hist)"
   ]
  },
  {
   "cell_type": "markdown",
   "metadata": {},
   "source": [
    "We can see two values stand out, having a much higher probability of measurement than the rest. These two values correspond to $e^{i\\theta}$ and $e^{-i\\theta}$, but we can’t see the number of solutions yet. We need to little more processing to get this information, so first let us get our output into something we can work with (an `int`).\n",
    "\n",
    "We will get the string of the most probable result from our output data (although either will do):"
   ]
  },
  {
   "cell_type": "code",
   "execution_count": 25,
   "metadata": {},
   "outputs": [],
   "source": [
    "measured_str = max(hist, key=hist.get)"
   ]
  },
  {
   "cell_type": "markdown",
   "metadata": {},
   "source": [
    "Let us now store this as an integer:"
   ]
  },
  {
   "cell_type": "code",
   "execution_count": 26,
   "metadata": {},
   "outputs": [
    {
     "name": "stdout",
     "output_type": "stream",
     "text": [
      "Register Output = 13\n"
     ]
    }
   ],
   "source": [
    "measured_int = int(measured_str, 2)\n",
    "print(\"Register Output = %i\" % measured_int)"
   ]
  },
  {
   "cell_type": "markdown",
   "metadata": {},
   "source": [
    "## 4. Finding the Number of Solutions (M) <a id='finding_m'></a>\n",
    "\n",
    "We will create a function, `calculate_M()` that takes as input the decimal integer output of our register, the number of counting qubits ($t$) and the number of searching qubits ($n$).\n",
    "\n",
    "First we want to get $\\theta$ from `measured_int`. You will remember that QPE gives us a measured $\\text{value} = 2^n \\phi$ from the eigenvalue $e^{2\\pi i\\phi}$, so to get $\\theta$ we need to do:\n",
    "\n",
    "$$\n",
    "\\theta = \\text{value}\\times\\frac{2\\pi}{2^t}\n",
    "$$\n",
    "\n",
    "Or, in code:"
   ]
  },
  {
   "cell_type": "code",
   "execution_count": 27,
   "metadata": {},
   "outputs": [
    {
     "name": "stdout",
     "output_type": "stream",
     "text": [
      "Theta = 5.10509\n"
     ]
    }
   ],
   "source": [
    "theta = (measured_int/(2**t))*math.pi*2\n",
    "print(\"Theta = %.5f\" % theta)"
   ]
  },
  {
   "cell_type": "markdown",
   "metadata": {},
   "source": [
    "You may remember that we can get the angle $\\theta/2$ can from the inner product of $|s\\rangle$ and $|s’\\rangle$:\n",
    "\n",
    "![image3](images/quantum_counting3.svg)\n",
    "\n",
    "$$\n",
    "\\langle s'|s\\rangle = \\cos{\\tfrac{\\theta}{2}}\n",
    "$$\n",
    "\n",
    "And that $|s\\rangle$ (a uniform superposition of computational basis states) can be written in terms of $|\\omega\\rangle$ and $|s'\\rangle$ as:\n",
    "\n",
    "$$\n",
    "|s\\rangle = \\sqrt{\\tfrac{M}{N}}|\\omega\\rangle + \\sqrt{\\tfrac{N-M}{N}}|s'\\rangle\n",
    "$$\n",
    "\n",
    "The inner product of $|s\\rangle$ and $|s'\\rangle$ is:\n",
    "\n",
    "$$\n",
    "\\langle s'|s\\rangle = \\sqrt{\\frac{N-M}{N}} = \\cos{\\tfrac{\\theta}{2}}\n",
    "$$\n",
    "\n",
    "From this, we can use some trigonometry and algebra to show:\n",
    "\n",
    "$$\n",
    "N\\sin^2{\\frac{\\theta}{2}} = M\n",
    "$$\n",
    "\n",
    "And in code:"
   ]
  },
  {
   "cell_type": "code",
   "execution_count": 28,
   "metadata": {},
   "outputs": [
    {
     "name": "stdout",
     "output_type": "stream",
     "text": [
      "No. of Solutions = 4.9\n"
     ]
    }
   ],
   "source": [
    "N = 2**n\n",
    "M = N * (math.sin(theta/2)**2)\n",
    "print(f\"No. of Solutions = {M:.1f}\")"
   ]
  },
  {
   "cell_type": "markdown",
   "metadata": {},
   "source": [
    "And we can see we have (approximately) the correct answer! We can approximately calculate the error in this answer using:"
   ]
  },
  {
   "cell_type": "code",
   "execution_count": 29,
   "metadata": {},
   "outputs": [
    {
     "name": "stdout",
     "output_type": "stream",
     "text": [
      "Error < 1.70\n"
     ]
    }
   ],
   "source": [
    "m = t - 1 # Upper bound: Will be less than this \n",
    "err = (math.sqrt(2*M*N) + N/(2**(m+1)))*(2**(-m))\n",
    "print(\"Error < %.2f\" % err)"
   ]
  },
  {
   "cell_type": "markdown",
   "metadata": {},
   "source": [
    "Explaining the error calculation is outside the scope of this article, but an explanation can be found in [1].\n",
    "\n",
    "Finally, here is the finished function `calculate_M()`:"
   ]
  },
  {
   "cell_type": "code",
   "execution_count": 30,
   "metadata": {},
   "outputs": [],
   "source": [
    "def calculate_M(measured_int, t, n):\n",
    "    \"\"\"For Processing Output of Quantum Counting\"\"\"\n",
    "    # Calculate Theta\n",
    "    theta = (measured_int/(2**t))*math.pi*2\n",
    "    print(\"Theta = %.5f\" % theta)\n",
    "    # Calculate No. of Solutions\n",
    "    N = 2**n\n",
    "    M = N * (math.sin(theta/2)**2)\n",
    "    print(f\"No. of Solutions = {M:.1f}\")\n",
    "    # Calculate Upper Error Bound\n",
    "    m = t - 1 #Will be less than this (out of scope) \n",
    "    err = (math.sqrt(2*M*N) + N/(2**(m+1)))*(2**(-m))\n",
    "    print(\"Error < %.2f\" % err)"
   ]
  },
  {
   "cell_type": "markdown",
   "metadata": {},
   "source": [
    "## 5. Exercises <a id='exercises'></a>\n",
    "\n",
    "1.\tCan you create an oracle with a different number of solutions? How does the accuracy of the quantum counting algorithm change?\n",
    "2.\tCan you adapt the circuit to use more or less counting qubits to get a different precision in your result?\n"
   ]
  }
 ],
 "metadata": {
  "kernelspec": {
   "display_name": "Python 3",
   "language": "python",
   "name": "python3"
  },
  "language_info": {
   "codemirror_mode": {
    "name": "ipython",
    "version": 3
   },
   "file_extension": ".py",
   "mimetype": "text/x-python",
   "name": "python",
   "nbconvert_exporter": "python",
   "pygments_lexer": "ipython3",
   "version": "3.12.8"
  }
 },
 "nbformat": 4,
 "nbformat_minor": 4
}
